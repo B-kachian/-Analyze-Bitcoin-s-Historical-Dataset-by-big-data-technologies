{
 "cells": [
  {
   "cell_type": "markdown",
   "metadata": {},
   "source": [
    "# Analyze Bitcoin Historical Dataset  records from 2017-2023"
   ]
  },
  {
   "cell_type": "markdown",
   "metadata": {},
   "source": [
    "# Introduction"
   ]
  },
  {
   "cell_type": "markdown",
   "metadata": {},
   "source": [
    " In the rapidly evolving world of cryptocurrencies, Bitcoin stands out as a benchmark for market dynamics and investor sentiment. This project aims to harness the power of machine learning to develop predictive models that can accurately forecast Bitcoin's market movements based on historical data. Utilizing a comprehensive dataset of Bitcoin prices from 2017 to 2023, the objective is to explore various modeling techniques to find the most effective model in terms of predictive accuracy and reliability.\n",
    "### Project Goal\n",
    "The primary goal of this project is to identify the best predictive model for Bitcoin prices using key performance metrics, specifically the coefficient of determination (R-squared or \n",
    "𝑅2) and the Mean Absolute Error (MAE). These metrics will help in determining the models' accuracy and precision in predicting Bitcoin's price movements. The project involves comparing five different machine learning models:\n",
    "\n",
    "1.Linear Regression Model\n",
    "\n",
    "2.Generalized Linear Model\n",
    "\n",
    "3.Random Forest Model\n",
    "\n",
    "4.Decision Tree Model\n",
    "\n",
    "5.Gradient Boosting Model\n",
    "\n",
    "Each model offers unique strengths and challenges, and the comparative analysis will focus on evaluating which model best captures the complexities of Bitcoin’s price fluctuations.\n",
    "\n",
    "### Data Utilization Strategy\n",
    "The dataset used in this project comprises over 3 million records of minute-by-minute Bitcoin trading data from the Binance API, capturing a detailed view of the market's behavior. For practicality and efficiency, the project implements random sampling to utilize 50% of the data, providing a substantial yet manageable dataset for rigorous analysis without compromising on the depth of data insights.\n",
    "\n",
    "### Implementation Approach\n",
    "To streamline the process of model development and evaluation, the project employs Apache Spark’s MLlib to handle large datasets efficiently. Models are built and tested both with and without the use of Spark's pipeline architecture. The pipeline approach allows for a structured and systematic workflow that includes data preprocessing, feature selection, model training, and evaluation, all within a cohesive framework. In contrast, models built outside the pipeline structure will be used to assess the impact of a more granular and manual approach on the performance and outcomes of the predictive models.\n",
    "\n",
    "### Comparative Analysis\n",
    "The comparative analysis of the models, executed in both pipelined and non-pipelined setups, aims to not only pinpoint the most effective model but also to establish the most suitable modeling techniques within a big data framework enabled by Spark’s distributed computing capabilities. This side-by-side evaluation will shed light on the scalability, efficiency, and effectiveness of different modeling approaches in handling extensive datasets.\n",
    "\n",
    "This comprehensive approach using Spark ML, HDFS, and big data techniques underlines the project's commitment to leveraging cutting-edge technology to improve predictive analytics in the financial sector."
   ]
  },
  {
   "cell_type": "markdown",
   "metadata": {},
   "source": []
  },
  {
   "cell_type": "markdown",
   "metadata": {},
   "source": [
    "# Bitcoin Historical Dataset\n",
    "https://www.kaggle.com/datasets/jkraak/bitcoin-price-dataset/data\n",
    "\n",
    "#### Overview\n",
    "The Bitcoin Historical Dataset encompasses an extensive collection of price data for Bitcoin, the world's leading cryptocurrency by market capitalization. This dataset captures a detailed record of Bitcoin's price movements over a significant period from August 2017 to July 2023, sourced from the Binance API. It consists of approximately 3.126 million records, each providing a snapshot of market activity at one-minute intervals, which makes it an exceptionally detailed and high-resolution dataset for financial analysis.\n",
    "### Data Collection\n",
    "The data was meticulously gathered using Binance's API, which is known for its reliability and wide usage in the cryptocurrency market. The dataset is formatted in CSV, allowing for straightforward integration with various data analysis tools and software. With a total size of 133 MB, the dataset is manageable yet comprehensive enough to perform in-depth and granular market trend analysis.\n",
    "\n",
    "### Attributes and Content\n",
    "##### The dataset features several key attributes that are critical for financial analysis:\n",
    "\n",
    "###### Timestamp: Indicates the exact minute the data was recorded, providing the temporal context for price movements.\n",
    "\n",
    "###### Open Price: The price of Bitcoin at the beginning of the minute.\n",
    "\n",
    "###### High Price: The highest price of Bitcoin during the minute.\n",
    "\n",
    "###### Low Price: The lowest price of Bitcoin during the minute.\n",
    "\n",
    "###### Close Price: The price of Bitcoin at the end of the minute.\n",
    "\n",
    "###### Volume: The total volume of Bitcoin traded during the minute.\n",
    "\n",
    "###### Quote Asset Volume: The total value of the trades during the minute measured in the quote asset (typically USD).\n",
    "\n",
    "###### Number of Trades: The total number of trades that occurred in the specified minute.\n",
    "\n",
    "###### Taker Buy Base Asset Volume: The amount of Bitcoin bought by 'takers' during the minute.\n",
    "\n",
    "###### Taker Buy Quote Asset Volume: The total quote asset volume bought by 'takers' during the minute."
   ]
  },
  {
   "cell_type": "markdown",
   "metadata": {},
   "source": [
    "### Install PySpark"
   ]
  },
  {
   "cell_type": "code",
   "execution_count": 1,
   "metadata": {},
   "outputs": [
    {
     "name": "stdout",
     "output_type": "stream",
     "text": [
      "Defaulting to user installation because normal site-packages is not writeable\n",
      "Requirement already satisfied: pyspark in ./.local/lib/python3.7/site-packages (3.4.3)\n",
      "Requirement already satisfied: py4j==0.10.9.7 in ./.local/lib/python3.7/site-packages (from pyspark) (0.10.9.7)\n"
     ]
    }
   ],
   "source": [
    "!pip install pyspark\n"
   ]
  },
  {
   "cell_type": "markdown",
   "metadata": {},
   "source": [
    "### Import all necessary libraries"
   ]
  },
  {
   "cell_type": "code",
   "execution_count": 70,
   "metadata": {},
   "outputs": [],
   "source": [
    "\n",
    "import pyspark\n",
    "from pyspark import SparkContext, SparkConf \n",
    "from pyspark.ml.feature import VectorAssembler \n",
    "from pyspark.sql import SQLContext\n",
    "import pandas as pd\n",
    "from pyspark.ml import Pipeline\n",
    "from pyspark.ml.feature import IndexToString, StringIndexer, VectorIndexer\n",
    "from pyspark.ml.evaluation import BinaryClassificationEvaluator\n",
    "from pyspark.mllib.stat import Statistics\n",
    "from pyspark.mllib.tree import RandomForest, GradientBoostedTrees\n",
    "from pyspark.ml.feature import OneHotEncoder, MinMaxScaler\n",
    "from pyspark.mllib.regression import LabeledPoint\n",
    "from pyspark.mllib.linalg import Vector\n",
    "from pyspark.ml.tuning import CrossValidator, ParamGridBuilder, CrossValidatorModel\n",
    "import random\n",
    "import time\n",
    "from pyspark.mllib.classification import NaiveBayes, LogisticRegressionWithLBFGS, SVMWithSGD\n",
    "from pyspark.sql import SparkSession\n",
    "from pyspark.ml.feature import VectorAssembler, StandardScaler\n",
    "from pyspark.sql.functions import col"
   ]
  },
  {
   "cell_type": "code",
   "execution_count": 3,
   "metadata": {},
   "outputs": [
    {
     "name": "stderr",
     "output_type": "stream",
     "text": [
      "/home/bkach001/.local/lib/python3.7/site-packages/pyspark/context.py:317: FutureWarning: Python 3.7 support is deprecated in Spark 3.4.\n",
      "  warnings.warn(\"Python 3.7 support is deprecated in Spark 3.4.\", FutureWarning)\n"
     ]
    },
    {
     "data": {
      "text/html": [
       "\n",
       "            <div>\n",
       "                <p><b>SparkSession - in-memory</b></p>\n",
       "                \n",
       "        <div>\n",
       "            <p><b>SparkContext</b></p>\n",
       "\n",
       "            <p><a href=\"http://dsm9.doc.gold.ac.uk:4045\">Spark UI</a></p>\n",
       "\n",
       "            <dl>\n",
       "              <dt>Version</dt>\n",
       "                <dd><code>v3.4.3</code></dd>\n",
       "              <dt>Master</dt>\n",
       "                <dd><code>local[*]</code></dd>\n",
       "              <dt>AppName</dt>\n",
       "                <dd><code>Bitcoin</code></dd>\n",
       "            </dl>\n",
       "        </div>\n",
       "        \n",
       "            </div>\n",
       "        "
      ],
      "text/plain": [
       "<pyspark.sql.session.SparkSession at 0x7fdbdacc47d0>"
      ]
     },
     "execution_count": 3,
     "metadata": {},
     "output_type": "execute_result"
    }
   ],
   "source": [
    "spark = SparkSession.builder \\\n",
    "    .appName(\"Bitcoin\") \\\n",
    "    .getOrCreate()\n",
    "spark"
   ]
  },
  {
   "cell_type": "markdown",
   "metadata": {},
   "source": [
    "## Issues Encountered\n",
    "Connection Issues to the Spark Cluster: Problems with connecting to the Spark cluster can arise due to network issues, configuration errors, or authentication problems. These can hinder the ability to process data efficiently in a distributed manner.\n",
    "\n",
    "Insufficient Space on the Cluster: Running out of space on HDFS or the cluster can occur if the data size exceeds the allocated storage or if the cluster is shared among multiple users/projects, leading to capacity constraints."
   ]
  },
  {
   "cell_type": "markdown",
   "metadata": {},
   "source": [
    "I put my data set on cluster you can load with \n",
    "\n",
    " #Copy the data from local disk to the cluster\n",
    " \n",
    " scp bitcoin_2017_to_2023.csv.csv bkach001@dsm1.doc.gold.ac.uk:\n",
    " #Copy directory onto HDFS\n",
    " \n",
    " hadoop fs -copyFromLocal -r "
   ]
  },
  {
   "cell_type": "markdown",
   "metadata": {},
   "source": [
    "# Load Dataset"
   ]
  },
  {
   "cell_type": "code",
   "execution_count": null,
   "metadata": {},
   "outputs": [],
   "source": [
    "# # Copy the data from local disk to the cluster\n",
    "#scp bitcoin_2017_to_2023.csv.csv bkach001@dsm1.doc.gold.ac.uk:\n",
    " # Copy directory onto HDFS\n",
    " #hadoop fs -copyFromLocal -r flightdata"
   ]
  },
  {
   "cell_type": "markdown",
   "metadata": {},
   "source": [
    "#### I loaded data set local becase of problem on coneection to the cluster"
   ]
  },
  {
   "cell_type": "code",
   "execution_count": 4,
   "metadata": {
    "scrolled": false
   },
   "outputs": [
    {
     "name": "stdout",
     "output_type": "stream",
     "text": [
      "+-------------------+--------+--------+--------+--------+--------+------------------+----------------+---------------------------+----------------------------+\n",
      "|          timestamp|    open|    high|     low|   close|  volume|quote_asset_volume|number_of_trades|taker_buy_base_asset_volume|taker_buy_quote_asset_volume|\n",
      "+-------------------+--------+--------+--------+--------+--------+------------------+----------------+---------------------------+----------------------------+\n",
      "|2023-08-01 13:19:00|28902.48|28902.49|28902.48|28902.49| 4.68658|    135453.7936575|             258|                    0.89391|               25836.2248359|\n",
      "|2023-08-01 13:18:00|28902.48|28902.49|28902.48|28902.49| 4.77589|    138035.0876618|             317|                    2.24546|               64899.3851954|\n",
      "|2023-08-01 13:17:00|28908.52|28908.53|28902.48|28902.49|11.52263|    333053.1509146|             451|                    2.70873|               78290.1701207|\n",
      "|2023-08-01 13:16:00|28907.41|28912.74|28907.41|28908.53| 15.8961|    459555.6198656|             483|                   10.22981|              295738.1669157|\n",
      "|2023-08-01 13:15:00| 28896.0|28907.42|28893.03|28907.41|37.74657|   1090760.5222002|             686|                   16.50452|               476955.246611|\n",
      "+-------------------+--------+--------+--------+--------+--------+------------------+----------------+---------------------------+----------------------------+\n",
      "only showing top 5 rows\n",
      "\n"
     ]
    }
   ],
   "source": [
    "# Path to your dataset\n",
    "data_path = \"bitcoin_2017_to_2023.csv\"  \n",
    "# Load the dataset\n",
    "data = spark.read.csv(data_path, header=True, inferSchema=True)\n",
    "\n",
    "# Show the first few rows of the dataset to verify it's loaded correctly\n",
    "data.show(5)"
   ]
  },
  {
   "cell_type": "code",
   "execution_count": 11,
   "metadata": {},
   "outputs": [
    {
     "name": "stdout",
     "output_type": "stream",
     "text": [
      "+-------------------+--------+--------+--------+--------+--------+------------------+----------------+---------------------------+----------------------------+\n",
      "|          timestamp|    open|    high|     low|   close|  volume|quote_asset_volume|number_of_trades|taker_buy_base_asset_volume|taker_buy_quote_asset_volume|\n",
      "+-------------------+--------+--------+--------+--------+--------+------------------+----------------+---------------------------+----------------------------+\n",
      "|2023-08-01 13:19:00|28902.48|28902.49|28902.48|28902.49| 4.68658|    135453.7936575|             258|                    0.89391|               25836.2248359|\n",
      "|2023-08-01 13:18:00|28902.48|28902.49|28902.48|28902.49| 4.77589|    138035.0876618|             317|                    2.24546|               64899.3851954|\n",
      "|2023-08-01 13:17:00|28908.52|28908.53|28902.48|28902.49|11.52263|    333053.1509146|             451|                    2.70873|               78290.1701207|\n",
      "|2023-08-01 13:16:00|28907.41|28912.74|28907.41|28908.53| 15.8961|    459555.6198656|             483|                   10.22981|              295738.1669157|\n",
      "|2023-08-01 13:15:00| 28896.0|28907.42|28893.03|28907.41|37.74657|   1090760.5222002|             686|                   16.50452|               476955.246611|\n",
      "|2023-08-01 13:14:00| 28890.4| 28896.0|28890.39|28895.99| 9.88869|     285717.317102|             389|                    5.46417|              157873.6306903|\n",
      "|2023-08-01 13:13:00|28889.63| 28890.4|28889.63|28890.39|17.87871|    516515.8925312|             266|                   16.19349|              467829.8916944|\n",
      "|2023-08-01 13:12:00|28881.54|28889.64|28881.53|28889.64|13.48153|    389423.4833484|             500|                   11.58691|               334697.039929|\n",
      "|2023-08-01 13:11:00| 28876.0|28881.54|28875.99|28881.54| 6.85924|     198082.934246|             274|                    5.93315|              171339.6275762|\n",
      "|2023-08-01 13:10:00|28872.48| 28876.0| 28870.0| 28876.0|10.75734|    310587.1782608|             381|                    7.87944|              227495.1657846|\n",
      "|2023-08-01 13:09:00|28874.35|28874.35|28872.48|28872.48| 6.40203|     184852.893472|             188|                    2.20741|               63736.9748395|\n",
      "|2023-08-01 13:08:00|28872.24|28874.35|28872.24|28874.34| 7.09072|    204726.8234621|             346|                    6.64285|              191795.7105597|\n",
      "|2023-08-01 13:07:00| 28878.0|28878.01|28872.24|28872.25| 7.06678|     204058.186552|             293|                    1.75256|               50602.8210044|\n",
      "|2023-08-01 13:06:00|28878.01|28878.01| 28878.0| 28878.0|  1.8852|     54440.8187474|             148|                    1.31474|               37967.0748674|\n",
      "|2023-08-01 13:05:00| 28882.9| 28887.1| 28878.0| 28878.0|18.24102|    526883.1115523|             497|                    3.75948|               108588.036092|\n",
      "|2023-08-01 13:04:00|28868.34| 28882.9| 28864.0|28882.89|37.51472|   1083149.0702743|             828|                   32.16039|              928584.4681012|\n",
      "|2023-08-01 13:03:00| 28875.0|28875.01|28868.33|28868.34|  12.935|    373456.9133675|             347|                    2.60575|                75232.106088|\n",
      "|2023-08-01 13:02:00| 28868.0|28875.01| 28864.0| 28875.0|19.21488|    554717.8754601|             573|                   15.54457|              448762.0839579|\n",
      "|2023-08-01 13:01:00|28875.02|28875.02|28866.24| 28868.0|16.13199|    465715.7152521|             533|                    8.00831|              231179.7440702|\n",
      "|2023-08-01 13:00:00|28878.57|28878.57|28875.01|28875.01|10.37775|    299663.9380181|             363|                    2.97515|                85907.813385|\n",
      "+-------------------+--------+--------+--------+--------+--------+------------------+----------------+---------------------------+----------------------------+\n",
      "only showing top 20 rows\n",
      "\n"
     ]
    }
   ],
   "source": [
    "data.show()"
   ]
  },
  {
   "cell_type": "markdown",
   "metadata": {},
   "source": [
    "# Dataset Overview\n",
    "The dataset comprises trading information captured in minute-by-minute intervals, as seen from the timestamps. Each record includes various financial metrics from a specific minute of trading:\n",
    "\n",
    "Timestamp: Represents the date and time for each entry, suggesting the data is captured in real-time or close to it. The provided timestamps range from 13:15 to 13:19 on August 1, 2023.\n",
    "Open, High, Low, Close (OHLC): These are standard financial metrics representing the opening price, the highest price, the lowest price, and the closing price of Bitcoin for that minute. The prices seem to hover around $28,902 to $28,912, indicating a relatively stable market in these minutes.\n",
    "Volume: This column shows the amount of Bitcoin traded during the minute. The volume varies significantly, from about 4.68 to 37.74 Bitcoins in the sampled entries, suggesting varying degrees of trading activity.\n",
    "Quote Asset Volume: This represents the total value traded during the minute, calculated in the fiat or quote currency (likely USD), which shows substantial financial transactions.\n",
    "Number of Trades: Indicates the total number of trades that occurred in each minute. There's a noticeable fluctuation in trading activity, ranging from 258 to 686 trades.\n",
    "Taker Buy Base Asset Volume and Taker Buy Quote Asset Volume: These fields likely represent the volume of Bitcoin bought and the corresponding fiat value of these purchases that were initiated by takers (those who take the market price), giving insights into demand dynamics.\n",
    "Observations\n",
    "The Bitcoin price is relatively stable in the given interval, with minimal fluctuation.\n",
    "Trading activity varies, with some minutes experiencing higher volumes and number of trades than others.\n",
    "The financial stake involved, represented by the quote asset volume, is substantial, emphasizing significant monetary exchanges during these trades.\n",
    "Conclusion\n",
    "This dataset provides a detailed granular view of Bitcoin trading activities over time, which can be beneficial for analyzing market behavior, identifying trends, or modeling future price movements based on historical data. The information is robust and suitable for deeper financial analysis and machine learning applications using Spark.ml to explore further patterns or predict future movements in Bitcoin prices."
   ]
  },
  {
   "cell_type": "code",
   "execution_count": 5,
   "metadata": {},
   "outputs": [
    {
     "name": "stdout",
     "output_type": "stream",
     "text": [
      "root\n",
      " |-- timestamp: timestamp (nullable = true)\n",
      " |-- open: double (nullable = true)\n",
      " |-- high: double (nullable = true)\n",
      " |-- low: double (nullable = true)\n",
      " |-- close: double (nullable = true)\n",
      " |-- volume: double (nullable = true)\n",
      " |-- quote_asset_volume: double (nullable = true)\n",
      " |-- number_of_trades: integer (nullable = true)\n",
      " |-- taker_buy_base_asset_volume: double (nullable = true)\n",
      " |-- taker_buy_quote_asset_volume: double (nullable = true)\n",
      "\n"
     ]
    }
   ],
   "source": [
    "data.printSchema()"
   ]
  },
  {
   "cell_type": "markdown",
   "metadata": {},
   "source": [
    "### Schema Overview\n",
    "The dataset contains several fields with their respective data types and nullable properties, indicating whether null values are permitted in each column:\n",
    "\n",
    "timestamp (timestamp, nullable = true): This field records the exact date and time of the data entry. The timestamp is essential for time series analysis and tracking price movements over time.\n",
    "open (double, nullable = true): The opening price of Bitcoin at the start of the minute. This is a crucial metric in financial data as it marks the starting point of a trading period.\n",
    "high (double, nullable = true): The highest price of Bitcoin during the minute. This value is important for identifying the peak trading price within the specified interval.\n",
    "low (double, nullable = true): The lowest price during the minute, which helps in understanding the minimum price level Bitcoin dropped to during the trading interval.\n",
    "close (double, nullable = true): The closing price at the end of the minute. It signifies the final trading price and is often used as a standard reference for pricing Bitcoin in subsequent analyses.\n",
    "volume (double, nullable = true): This represents the total volume of Bitcoin traded during the minute. High volumes can indicate strong interest or significant events affecting the price.\n",
    "quote_asset_volume (double, nullable = true): The total monetary value of trades conducted, given in a quote currency (likely USD). It provides insights into the monetary scale of trading activities.\n",
    "number_of_trades (integer, nullable = true): Counts the number of individual trades executed during the minute, useful for gauging market activity and liquidity.\n",
    "taker_buy_base_asset_volume (double, nullable = true): The volume of Bitcoin purchased by takers, who are market participants that \"take\" the current market price.\n",
    "taker_buy_quote_asset_volume (double, nullable = true): The total monetary value in the quote currency for the Bitcoin purchased by takers, indicating the demand and purchasing power."
   ]
  },
  {
   "cell_type": "code",
   "execution_count": 9,
   "metadata": {},
   "outputs": [
    {
     "name": "stdout",
     "output_type": "stream",
     "text": [
      "-RECORD 0-------------------------------------------\n",
      " timestamp                    | 2023-08-01 13:19:00 \n",
      " open                         | 28902.48            \n",
      " high                         | 28902.49            \n",
      " low                          | 28902.48            \n",
      " close                        | 28902.49            \n",
      " volume                       | 4.68658             \n",
      " quote_asset_volume           | 135453.7936575      \n",
      " number_of_trades             | 258                 \n",
      " taker_buy_base_asset_volume  | 0.89391             \n",
      " taker_buy_quote_asset_volume | 25836.2248359       \n",
      "-RECORD 1-------------------------------------------\n",
      " timestamp                    | 2023-08-01 13:18:00 \n",
      " open                         | 28902.48            \n",
      " high                         | 28902.49            \n",
      " low                          | 28902.48            \n",
      " close                        | 28902.49            \n",
      " volume                       | 4.77589             \n",
      " quote_asset_volume           | 138035.0876618      \n",
      " number_of_trades             | 317                 \n",
      " taker_buy_base_asset_volume  | 2.24546             \n",
      " taker_buy_quote_asset_volume | 64899.3851954       \n",
      "-RECORD 2-------------------------------------------\n",
      " timestamp                    | 2023-08-01 13:17:00 \n",
      " open                         | 28908.52            \n",
      " high                         | 28908.53            \n",
      " low                          | 28902.48            \n",
      " close                        | 28902.49            \n",
      " volume                       | 11.52263            \n",
      " quote_asset_volume           | 333053.1509146      \n",
      " number_of_trades             | 451                 \n",
      " taker_buy_base_asset_volume  | 2.70873             \n",
      " taker_buy_quote_asset_volume | 78290.1701207       \n",
      "-RECORD 3-------------------------------------------\n",
      " timestamp                    | 2023-08-01 13:16:00 \n",
      " open                         | 28907.41            \n",
      " high                         | 28912.74            \n",
      " low                          | 28907.41            \n",
      " close                        | 28908.53            \n",
      " volume                       | 15.8961             \n",
      " quote_asset_volume           | 459555.6198656      \n",
      " number_of_trades             | 483                 \n",
      " taker_buy_base_asset_volume  | 10.22981            \n",
      " taker_buy_quote_asset_volume | 295738.1669157      \n",
      "-RECORD 4-------------------------------------------\n",
      " timestamp                    | 2023-08-01 13:15:00 \n",
      " open                         | 28896.0             \n",
      " high                         | 28907.42            \n",
      " low                          | 28893.03            \n",
      " close                        | 28907.41            \n",
      " volume                       | 37.74657            \n",
      " quote_asset_volume           | 1090760.5222002     \n",
      " number_of_trades             | 686                 \n",
      " taker_buy_base_asset_volume  | 16.50452            \n",
      " taker_buy_quote_asset_volume | 476955.246611       \n",
      "only showing top 5 rows\n",
      "\n"
     ]
    }
   ],
   "source": [
    "data.show(n=5, vertical=True)"
   ]
  },
  {
   "cell_type": "markdown",
   "metadata": {},
   "source": [
    "# Missing Value"
   ]
  },
  {
   "cell_type": "code",
   "execution_count": 9,
   "metadata": {},
   "outputs": [
    {
     "data": {
      "text/plain": [
       "{'timestamp': 0,\n",
       " 'open': 0,\n",
       " 'high': 0,\n",
       " 'low': 0,\n",
       " 'close': 0,\n",
       " 'volume': 0,\n",
       " 'quote_asset_volume': 0,\n",
       " 'number_of_trades': 0,\n",
       " 'taker_buy_base_asset_volume': 0,\n",
       " 'taker_buy_quote_asset_volume': 0}"
      ]
     },
     "execution_count": 9,
     "metadata": {},
     "output_type": "execute_result"
    }
   ],
   "source": [
    "null_counts = {c:data.filter(data[c].isNull()).count() for c in data.columns}\n",
    "null_counts"
   ]
  },
  {
   "cell_type": "markdown",
   "metadata": {},
   "source": [
    "### Missing Value Analysis Report for Bitcoin Trading Dataset\n",
    "The missing value analysis was conducted on the Bitcoin trading dataset spanning from 2017 to 2023 to ascertain the completeness of the data across various trading metrics. The analysis provides crucial insights into the data quality and its suitability for detailed financial analysis and predictive modeling.\n",
    "\n",
    "Results:\n",
    "\n",
    "Timestamp: No missing values. Open, High, Low, Close Prices: All price metrics (open, high, low, and close) show zero missing values, indicating comprehensive recording during the trading period. Volume and Quote Asset Volume: Both trading volume and quote asset volume have zero missing entries, suggesting that all transactions were accurately captured and no data points were omitted. Number of Trades: No missing data points in the number of trades, which ensures the dataset's reliability for trade frequency analysis. Taker Buy Base and Quote Asset Volume: The absence of missing values in these volumes confirms that all buyer-side transactions are well-documented, crucial for analyzing market liquidity and buyer behavior."
   ]
  },
  {
   "cell_type": "markdown",
   "metadata": {},
   "source": [
    "## Data Cleaning"
   ]
  },
  {
   "cell_type": "code",
   "execution_count": 11,
   "metadata": {
    "scrolled": true
   },
   "outputs": [
    {
     "data": {
      "text/plain": [
       "{'timestamp': 3123568,\n",
       " 'open': 1784709,\n",
       " 'high': 1658845,\n",
       " 'low': 1666834,\n",
       " 'close': 1775966,\n",
       " 'volume': 2959315,\n",
       " 'quote_asset_volume': 3032586,\n",
       " 'number_of_trades': 18985,\n",
       " 'taker_buy_base_asset_volume': 2854502,\n",
       " 'taker_buy_quote_asset_volume': 2997934}"
      ]
     },
     "execution_count": 11,
     "metadata": {},
     "output_type": "execute_result"
    }
   ],
   "source": [
    "unique_counts = {c:data.select(c).distinct().count() for c in data.columns}\n",
    "unique_counts"
   ]
  },
  {
   "cell_type": "markdown",
   "metadata": {},
   "source": [
    "#### Unique Counts Analysis:\n",
    "timestamp (3,123,568 unique values):\n",
    "\n",
    "Nearly every entry has a unique timestamp, suggesting that data is recorded at very fine intervals, likely every few seconds or minutes, considering the total count is very close to the total number of rows in your dataset. This indicates high granularity and precise timing of the data collection.\n",
    "\n",
    "open (1,784,709 unique values):\n",
    "The number of unique opening prices is substantial, showing significant variation in the opening price of Bitcoin trades throughout the dataset.\n",
    "\n",
    "high (1,658,845 unique values):\n",
    "Similar to open, but slightly fewer unique values, reflecting the highest price point Bitcoin reached in each recorded interval.\n",
    "\n",
    "low (1,666,834 unique values):\n",
    "The count of unique low prices is also high, indicating varied minimum trading prices within the data capture intervals.\n",
    "\n",
    "close (1,775,966 unique values):\n",
    "Close prices have a high number of unique values, similar to open prices, illustrating variability in the closing price at the end of each interval.\n",
    "\n",
    "volume (2,959,315 unique values):\n",
    "This shows a very high variety in trading volumes, suggesting diverse trading activity and possibly varying levels of market participation or liquidity throughout the dataset.\n",
    "\n",
    "quote_asset_volume (3,032,586 unique values):\n",
    "Represents the total value traded, reflected in quote currency (likely USD), and shows extremely high variability, indicating fluctuating market capitalization.\n",
    "\n",
    "number_of_trades (18,985 unique values):\n",
    "Significantly fewer unique values compared to other metrics, which could indicate that the range of transaction counts per interval doesn't vary as widely as price or volume.\n",
    "\n",
    "taker_buy_base_asset_volume (2,854,502 unique values):\n",
    "Shows the volume of Bitcoin purchased by takers, reflecting high variation and suggesting active market participation in terms of buying.\n",
    "\n",
    "taker_buy_quote_asset_volume (2,997,934 unique values):\n",
    "Similar to taker_buy_base_asset_volume but measured in quote currency, again indicating high variability and possibly different buying patterns or market behaviors.\n",
    "\n",
    "##### Summary:\n",
    "The data exhibits high variability in most financial metrics (prices and volumes), pointing to an active and possibly volatile trading environment.\n",
    "The fewer unique values in number_of_trades suggest that while the intensity of trading (volume, price movement) changes significantly, the count of trades per interval is relatively less varied.\n",
    "The consistency in high unique counts across volume-related metrics indicates a wide range of trading behaviors, from small to large transactions."
   ]
  },
  {
   "cell_type": "code",
   "execution_count": 12,
   "metadata": {},
   "outputs": [
    {
     "data": {
      "text/plain": [
       "3126000"
      ]
     },
     "execution_count": 12,
     "metadata": {},
     "output_type": "execute_result"
    }
   ],
   "source": [
    "data.count()"
   ]
  },
  {
   "cell_type": "markdown",
   "metadata": {},
   "source": [
    "## Analysis of Transaction Frequency  in Bitcoin Trading Data "
   ]
  },
  {
   "cell_type": "code",
   "execution_count": 14,
   "metadata": {},
   "outputs": [
    {
     "name": "stdout",
     "output_type": "stream",
     "text": [
      "+-------------------+-----+\n",
      "|          timestamp|count|\n",
      "+-------------------+-----+\n",
      "|2023-03-26 02:19:00|    2|\n",
      "|2018-01-01 01:15:00|    2|\n",
      "|2023-03-26 02:04:00|    2|\n",
      "|2018-01-01 04:25:00|    2|\n",
      "|2023-03-26 02:48:00|    2|\n",
      "|2018-01-01 01:17:00|    2|\n",
      "|2023-01-01 02:50:00|    2|\n",
      "|2018-01-01 01:41:00|    2|\n",
      "|2023-03-26 02:47:00|    2|\n",
      "|2018-01-01 01:49:00|    2|\n",
      "|2023-01-01 03:40:00|    2|\n",
      "|2018-01-01 01:56:00|    2|\n",
      "|2023-01-01 03:49:00|    2|\n",
      "|2018-01-01 01:59:00|    2|\n",
      "|2023-01-01 01:57:00|    2|\n",
      "|2018-01-01 02:00:00|    2|\n",
      "|2023-03-26 02:06:00|    2|\n",
      "|2018-01-01 02:02:00|    2|\n",
      "|2023-01-01 01:52:00|    2|\n",
      "|2018-01-01 02:16:00|    2|\n",
      "+-------------------+-----+\n",
      "only showing top 20 rows\n",
      "\n"
     ]
    }
   ],
   "source": [
    "from pyspark.sql.functions import col\n",
    "data.groupBy(\"timestamp\").count().orderBy(col(\"count\").desc()).show()"
   ]
  },
  {
   "cell_type": "code",
   "execution_count": 15,
   "metadata": {},
   "outputs": [
    {
     "name": "stdout",
     "output_type": "stream",
     "text": [
      "+------+-----+\n",
      "|  open|count|\n",
      "+------+-----+\n",
      "|3900.0|  230|\n",
      "|3950.0|  183|\n",
      "|4300.0|  176|\n",
      "|6600.0|  175|\n",
      "|4330.0|  163|\n",
      "|4200.0|  163|\n",
      "|3700.0|  162|\n",
      "|6500.0|  162|\n",
      "|3920.0|  153|\n",
      "|4400.0|  152|\n",
      "|4000.0|  152|\n",
      "|3960.0|  151|\n",
      "|3910.0|  150|\n",
      "|8100.0|  143|\n",
      "|6720.0|  142|\n",
      "|3890.0|  142|\n",
      "|3930.0|  141|\n",
      "|3720.0|  138|\n",
      "|3970.0|  138|\n",
      "|8200.0|  138|\n",
      "+------+-----+\n",
      "only showing top 20 rows\n",
      "\n"
     ]
    }
   ],
   "source": [
    "data.groupBy(\"open\").count().orderBy(col(\"count\").desc()).show()"
   ]
  },
  {
   "cell_type": "code",
   "execution_count": 16,
   "metadata": {},
   "outputs": [
    {
     "name": "stdout",
     "output_type": "stream",
     "text": [
      "+-------+-----+\n",
      "|   high|count|\n",
      "+-------+-----+\n",
      "| 6600.0|  393|\n",
      "| 6500.0|  386|\n",
      "| 6720.0|  341|\n",
      "| 8200.0|  322|\n",
      "| 8100.0|  310|\n",
      "| 3900.0|  290|\n",
      "| 6590.0|  280|\n",
      "| 6450.0|  280|\n",
      "| 6700.0|  276|\n",
      "| 9350.0|  276|\n",
      "| 9300.0|  273|\n",
      "| 6730.0|  263|\n",
      "| 9500.0|  262|\n",
      "| 4000.0|  260|\n",
      "| 6400.0|  257|\n",
      "| 6750.0|  255|\n",
      "| 9600.0|  247|\n",
      "|11400.0|  246|\n",
      "| 9100.0|  244|\n",
      "| 6710.0|  244|\n",
      "+-------+-----+\n",
      "only showing top 20 rows\n",
      "\n"
     ]
    }
   ],
   "source": [
    "data.groupBy(\"high\").count().orderBy(col(\"count\").desc()).show()"
   ]
  },
  {
   "cell_type": "code",
   "execution_count": 17,
   "metadata": {},
   "outputs": [
    {
     "name": "stdout",
     "output_type": "stream",
     "text": [
      "+------+-----+\n",
      "|   low|count|\n",
      "+------+-----+\n",
      "|6600.0|  308|\n",
      "|6700.0|  275|\n",
      "|6500.0|  274|\n",
      "|9300.0|  258|\n",
      "|8200.0|  253|\n",
      "|3900.0|  252|\n",
      "|6580.0|  252|\n",
      "|6400.0|  252|\n",
      "|8100.0|  248|\n",
      "|6590.0|  248|\n",
      "|8700.0|  246|\n",
      "|9100.0|  245|\n",
      "|6450.0|  244|\n",
      "|6720.0|  242|\n",
      "|9350.0|  241|\n",
      "|7900.0|  239|\n",
      "|9280.0|  233|\n",
      "|9600.0|  232|\n",
      "|9250.0|  225|\n",
      "|7300.0|  224|\n",
      "+------+-----+\n",
      "only showing top 20 rows\n",
      "\n"
     ]
    }
   ],
   "source": [
    "data.groupBy(\"low\").count().orderBy(col(\"count\").desc()).show()"
   ]
  },
  {
   "cell_type": "code",
   "execution_count": 18,
   "metadata": {},
   "outputs": [
    {
     "name": "stdout",
     "output_type": "stream",
     "text": [
      "+------+-----+\n",
      "| close|count|\n",
      "+------+-----+\n",
      "|3900.0|  223|\n",
      "|6600.0|  211|\n",
      "|4300.0|  207|\n",
      "|6500.0|  195|\n",
      "|4400.0|  192|\n",
      "|3950.0|  187|\n",
      "|8200.0|  185|\n",
      "|4330.0|  184|\n",
      "|4200.0|  184|\n",
      "|3700.0|  183|\n",
      "|4000.0|  178|\n",
      "|8100.0|  177|\n",
      "|3960.0|  166|\n",
      "|6730.0|  164|\n",
      "|6400.0|  162|\n",
      "|6590.0|  161|\n",
      "|6720.0|  161|\n",
      "|4340.0|  155|\n",
      "|3930.0|  155|\n",
      "|6710.0|  155|\n",
      "+------+-----+\n",
      "only showing top 20 rows\n",
      "\n"
     ]
    }
   ],
   "source": [
    "data.groupBy(\"close\").count().orderBy(col(\"count\").desc()).show()"
   ]
  },
  {
   "cell_type": "code",
   "execution_count": 19,
   "metadata": {},
   "outputs": [
    {
     "name": "stdout",
     "output_type": "stream",
     "text": [
      "+-------+-----+\n",
      "| volume|count|\n",
      "+-------+-----+\n",
      "|    0.0|23863|\n",
      "|    0.1|  122|\n",
      "|   0.01|   94|\n",
      "|    1.0|   83|\n",
      "|    0.2|   77|\n",
      "|  0.002|   75|\n",
      "|  0.001|   67|\n",
      "|   0.05|   57|\n",
      "|   0.03|   55|\n",
      "|    0.5|   55|\n",
      "|0.24941|   54|\n",
      "|    0.3|   52|\n",
      "|   0.02|   46|\n",
      "|   0.15|   35|\n",
      "|  0.015|   33|\n",
      "|    0.4|   32|\n",
      "|   0.06|   32|\n",
      "|  0.005|   28|\n",
      "|   0.04|   27|\n",
      "|   0.07|   24|\n",
      "+-------+-----+\n",
      "only showing top 20 rows\n",
      "\n"
     ]
    }
   ],
   "source": [
    "data.groupBy(\"volume\").count().orderBy(col(\"count\").desc()).show()"
   ]
  },
  {
   "cell_type": "code",
   "execution_count": 20,
   "metadata": {},
   "outputs": [
    {
     "name": "stdout",
     "output_type": "stream",
     "text": [
      "+----------------+-----+\n",
      "|number_of_trades|count|\n",
      "+----------------+-----+\n",
      "|             0.0|23863|\n",
      "|             1.0|12687|\n",
      "|             2.0|12013|\n",
      "|             3.0|11730|\n",
      "|             4.0|10986|\n",
      "|             5.0|10027|\n",
      "|             6.0| 9781|\n",
      "|             7.0| 8701|\n",
      "|             8.0| 7871|\n",
      "|            89.0| 6727|\n",
      "|             9.0| 6666|\n",
      "|            93.0| 6647|\n",
      "|            99.0| 6631|\n",
      "|            96.0| 6600|\n",
      "|           101.0| 6572|\n",
      "|            92.0| 6546|\n",
      "|            90.0| 6532|\n",
      "|            95.0| 6528|\n",
      "|           100.0| 6506|\n",
      "|            94.0| 6504|\n",
      "+----------------+-----+\n",
      "only showing top 20 rows\n",
      "\n"
     ]
    }
   ],
   "source": [
    "data.groupBy(\"number_of_trades\").count().orderBy(col(\"count\").desc()).show()"
   ]
  },
  {
   "cell_type": "code",
   "execution_count": 21,
   "metadata": {},
   "outputs": [
    {
     "name": "stdout",
     "output_type": "stream",
     "text": [
      "+------------------+-----+\n",
      "|quote_asset_volume|count|\n",
      "+------------------+-----+\n",
      "|               0.0|23863|\n",
      "|              7.94|    5|\n",
      "|         270.94122|    4|\n",
      "|         1207341.0|    4|\n",
      "|          583934.8|    4|\n",
      "|         532194.94|    4|\n",
      "|          670509.9|    4|\n",
      "|         1801250.6|    4|\n",
      "|         416570.44|    4|\n",
      "|         191102.36|    4|\n",
      "|          89.99325|    4|\n",
      "|         86853.984|    4|\n",
      "|          312413.0|    4|\n",
      "|         1058847.5|    4|\n",
      "|          299896.5|    4|\n",
      "|          149998.9|    4|\n",
      "|         2137851.0|    4|\n",
      "|         146131.66|    4|\n",
      "|         1828337.2|    4|\n",
      "|         528707.25|    4|\n",
      "+------------------+-----+\n",
      "only showing top 20 rows\n",
      "\n"
     ]
    }
   ],
   "source": [
    "data.groupBy(\"quote_asset_volume\").count().orderBy(col(\"count\").desc()).show()"
   ]
  },
  {
   "cell_type": "code",
   "execution_count": 22,
   "metadata": {},
   "outputs": [
    {
     "name": "stdout",
     "output_type": "stream",
     "text": [
      "+---------------------------+-----+\n",
      "|taker_buy_base_asset_volume|count|\n",
      "+---------------------------+-----+\n",
      "|                        0.0|59985|\n",
      "|                        0.1|  321|\n",
      "|                       0.01|  241|\n",
      "|                        0.2|  214|\n",
      "|                      0.002|  201|\n",
      "|                       0.05|  186|\n",
      "|                        1.0|  124|\n",
      "|                        0.5|  121|\n",
      "|                      0.001|  120|\n",
      "|                        0.3|  119|\n",
      "|                       0.02|  116|\n",
      "|                       0.03|  103|\n",
      "|                        0.4|   72|\n",
      "|                       0.15|   71|\n",
      "|                       0.04|   56|\n",
      "|                    0.24941|   54|\n",
      "|                       0.25|   53|\n",
      "|                      0.005|   52|\n",
      "|                      0.015|   48|\n",
      "|                       0.11|   45|\n",
      "+---------------------------+-----+\n",
      "only showing top 20 rows\n",
      "\n"
     ]
    }
   ],
   "source": [
    "data.groupBy(\"taker_buy_base_asset_volume\").count().orderBy(col(\"count\").desc()).show()"
   ]
  },
  {
   "cell_type": "code",
   "execution_count": 23,
   "metadata": {},
   "outputs": [
    {
     "name": "stdout",
     "output_type": "stream",
     "text": [
      "+----------------------------+-----+\n",
      "|taker_buy_quote_asset_volume|count|\n",
      "+----------------------------+-----+\n",
      "|                         0.0|59985|\n",
      "|                         7.8|   10|\n",
      "|                        8.36|    7|\n",
      "|                        7.94|    5|\n",
      "|                        8.32|    5|\n",
      "|                   34.012558|    5|\n",
      "|                        7.28|    5|\n",
      "|                   112.56937|    5|\n",
      "|                        8.14|    4|\n",
      "|                    90533.71|    4|\n",
      "|                    74366.35|    4|\n",
      "|                        7.84|    4|\n",
      "|                    713773.5|    4|\n",
      "|                         7.9|    4|\n",
      "|                   131400.83|    4|\n",
      "|                    773554.7|    4|\n",
      "|                    95791.81|    4|\n",
      "|                   275788.78|    4|\n",
      "|                        8.16|    4|\n",
      "|                   230850.17|    4|\n",
      "+----------------------------+-----+\n",
      "only showing top 20 rows\n",
      "\n"
     ]
    }
   ],
   "source": [
    "data.groupBy(\"taker_buy_quote_asset_volume\").count().orderBy(col(\"count\").desc()).show()"
   ]
  },
  {
   "cell_type": "code",
   "execution_count": 67,
   "metadata": {},
   "outputs": [
    {
     "data": {
      "image/png": "[encoded data removed]",
      "text/plain": [
       "<Figure size 720x432 with 1 Axes>"
      ]
     },
     "metadata": {
      "needs_background": "light"
     },
     "output_type": "display_data"
    }
   ],
   "source": [
    "pdf = data.toPandas()\n",
    "plt.figure(figsize=(10, 6))\n",
    "plt.plot(pdf['timestamp'], pdf['number_of_trades'], label='number_of_trades')\n",
    "plt.title('Bitcoin Closing Price Over Time')\n",
    "plt.xlabel('Timestamp')\n",
    "plt.ylabel('number_of_trades')\n",
    "plt.legend()\n",
    "plt.show()"
   ]
  },
  {
   "cell_type": "markdown",
   "metadata": {},
   "source": [
    "# correlation_matrix"
   ]
  },
  {
   "cell_type": "code",
   "execution_count": 6,
   "metadata": {},
   "outputs": [
    {
     "name": "stdout",
     "output_type": "stream",
     "text": [
      "[[1.         0.99999886 0.99999887 0.99999842 0.05926568 0.30336678\n",
      "  0.05490376 0.29210445]\n",
      " [0.99999886 1.         0.99999783 0.99999901 0.05962081 0.30384729\n",
      "  0.05533515 0.29268263]\n",
      " [0.99999887 0.99999783 1.         0.99999901 0.05887855 0.30285382\n",
      "  0.05462907 0.29173857]\n",
      " [0.99999842 0.99999901 0.99999901 1.         0.05924852 0.30335063\n",
      "  0.05503723 0.2922829 ]\n",
      " [0.05926568 0.05962081 0.05887855 0.05924852 1.         0.89010407\n",
      "  0.9661484  0.85974662]\n",
      " [0.30336678 0.30384729 0.30285382 0.30335063 0.89010407 1.\n",
      "  0.86204658 0.96553612]\n",
      " [0.05490376 0.05533515 0.05462907 0.05503723 0.9661484  0.86204658\n",
      "  1.         0.88850022]\n",
      " [0.29210445 0.29268263 0.29173857 0.2922829  0.85974662 0.96553612\n",
      "  0.88850022 1.        ]]\n"
     ]
    }
   ],
   "source": [
    "# Define the numerical columns you want to include in the correlation analysis\n",
    "columns_to_convert = ['open', 'high', 'low', 'close', 'volume', 'quote_asset_volume', \n",
    "                     'taker_buy_base_asset_volume', 'taker_buy_quote_asset_volume']\n",
    "\n",
    "from pyspark.ml.feature import VectorAssembler\n",
    "from pyspark.ml.stat import Correlation\n",
    "\n",
    "# Assemble the vector of features\n",
    "assembler = VectorAssembler(inputCols=columns_to_convert, outputCol=\"corr_features\")\n",
    "data_vector = assembler.transform(data).select(\"corr_features\")\n",
    "\n",
    "# Compute the correlation matrix\n",
    "matrix = Correlation.corr(data_vector, \"corr_features\")\n",
    "correlation_matrix = matrix.collect()[0][\"pearson(corr_features)\"].toArray()\n",
    "\n",
    "# Display the correlation matrix\n",
    "print(correlation_matrix)"
   ]
  },
  {
   "cell_type": "code",
   "execution_count": 7,
   "metadata": {},
   "outputs": [],
   "source": [
    "import numpy as np\n",
    "import pandas as pd\n",
    "\n",
    "# Assuming 'correlation_matrix' is your matrix variable from earlier\n",
    "correlation_data = np.array([[1., 0.99999886, 0.99999887, 0.99999842, 0.05929137, 0.30341826,\n",
    "  0.20837492, 0.05492844, 0.29215444],\n",
    " [0.99999886, 1., 0.99999783, 0.99999901, 0.05964659, 0.30389885,\n",
    "  0.20867126, 0.05535993, 0.29273271],\n",
    " [0.99999887, 0.99999783, 1., 0.99999901, 0.05890413, 0.30290519,\n",
    "  0.20806036, 0.05465366, 0.29178847],\n",
    " [0.99999842, 0.99999901, 0.99999901, 1., 0.05927419, 0.30340208,\n",
    "  0.2083655, 0.05506191, 0.29233287],\n",
    " [0.05929137, 0.05964659, 0.05890413, 0.05927419, 1., 0.89009902,\n",
    "  0.88324685, 0.96614835, 0.85974456],\n",
    " [0.30341826, 0.30389885, 0.30290519, 0.30340208, 0.89009902, 1.,\n",
    "  0.88458967, 0.86203929, 0.96553708],\n",
    " [0.20837492, 0.20867126, 0.20806036, 0.2083655, 0.88324685, 0.88458967,\n",
    "  1., 0.85917124, 0.85825789],\n",
    " [0.05492844, 0.05535993, 0.05465366, 0.05506191, 0.96614835, 0.86203929,\n",
    "  0.85917124, 1., 0.88849438],\n",
    " [0.29215444, 0.29273271, 0.29178847, 0.29233287, 0.85974456, 0.96553708,\n",
    "  0.85825789, 0.88849438, 1.        ]])\n",
    "\n",
    "column_labels = ['open', 'high', 'low', 'close', 'volume', 'quote_asset_volume',\n",
    "                 'number_of_trades', 'taker_buy_base_asset_volume', 'taker_buy_quote_asset_volume']\n",
    "df_corr = pd.DataFrame(correlation_data, columns=column_labels, index=column_labels)"
   ]
  },
  {
   "cell_type": "code",
   "execution_count": 8,
   "metadata": {},
   "outputs": [
    {
     "data": {
      "image/png": "[encoded data removed]",
      "text/plain": [
       "<Figure size 720x576 with 2 Axes>"
      ]
     },
     "metadata": {
      "needs_background": "light"
     },
     "output_type": "display_data"
    }
   ],
   "source": [
    "import seaborn as sns\n",
    "import matplotlib.pyplot as plt\n",
    "\n",
    "plt.figure(figsize=(10, 8))\n",
    "sns.heatmap(df_corr, annot=True, fmt=\".2f\", cmap='coolwarm', cbar=True, square=True)\n",
    "plt.title('Correlation Matrix Heatmap')\n",
    "plt.show()"
   ]
  },
  {
   "cell_type": "markdown",
   "metadata": {},
   "source": [
    "###  Correlation Analysis Report\n",
    "Overview\n",
    "The correlation analysis was conducted on the Bitcoin dataset spanning from 2017 to 2023, focusing on key trading metrics such as open, high, low, close prices, volume, quote asset volume, number of trades, and taker buy volumes. The correlation coefficients were computed to measure the linear relationships between these variables.\n",
    "\n",
    "Methodology\n",
    "The analysis utilized the Pearson correlation coefficient, a statistic that measures linear correlation between variables. Correlation values range from -1 to 1, where:\n",
    "\n",
    "1 indicates a perfect positive linear relationship,\n",
    "-1 indicates a perfect negative linear relationship,\n",
    "0 indicates no linear relationship.\n",
    "\n",
    "### Results\n",
    "The correlation heatmap visualizes the correlation coefficients among the variables. Notable findings include:\n",
    "\n",
    "High correlation between market prices: The open, high, low, and close prices show almost perfect correlations (>0.99), suggesting they often move in unison during the same trading intervals.\n",
    "\n",
    "Volume-related metrics: The volume and quote asset volume are highly correlated (0.89), indicating that as the number of bitcoins traded increases, so does the fiat currency volume.\n",
    "\n",
    "Trade activity correlations: The number of trades is strongly correlated with both volume and quote asset volume (0.88 for both), which implies higher trade activity is associated with higher trading volumes.\n",
    "\n",
    "Taker buy volumes: These are also highly correlated with overall trade volume and quote asset volume, suggesting that taker-initiated trades contribute significantly to overall market liquidity.\n",
    "\n",
    "### Conclusion\n",
    "The correlation analysis provides valuable insights into how different trading indicators are related in the Bitcoin market. The high correlation between price metrics could be useful for predicting future market movements based on past price behavior. Similarly, the strong associations between volume-related metrics and the number of trades can assist in liquidity assessment and market analysis, facilitating more informed trading and investment decisions."
   ]
  },
  {
   "cell_type": "markdown",
   "metadata": {},
   "source": [
    "# Convert type Data"
   ]
  },
  {
   "cell_type": "code",
   "execution_count": 12,
   "metadata": {},
   "outputs": [
    {
     "name": "stdout",
     "output_type": "stream",
     "text": [
      "root\n",
      " |-- timestamp: timestamp (nullable = true)\n",
      " |-- open: float (nullable = true)\n",
      " |-- high: float (nullable = true)\n",
      " |-- low: float (nullable = true)\n",
      " |-- close: float (nullable = true)\n",
      " |-- volume: float (nullable = true)\n",
      " |-- quote_asset_volume: float (nullable = true)\n",
      " |-- number_of_trades: float (nullable = true)\n",
      " |-- taker_buy_base_asset_volume: float (nullable = true)\n",
      " |-- taker_buy_quote_asset_volume: float (nullable = true)\n",
      "\n"
     ]
    }
   ],
   "source": [
    "from pyspark.sql.functions import col\n",
    "\n",
    "# List of columns to convert\n",
    "columns_to_convert = [\n",
    "    'open', 'high', 'low', 'close', 'volume','number_of_trades',\n",
    "    'quote_asset_volume', 'taker_buy_base_asset_volume', 'taker_buy_quote_asset_volume'\n",
    "]\n",
    "\n",
    "# Convert columns to float\n",
    "for column in columns_to_convert:\n",
    "    data = data.withColumn(column, col(column).cast('float'))\n",
    "\n",
    "# Show the updated schema to confirm changes\n",
    "data.printSchema()\n"
   ]
  },
  {
   "cell_type": "markdown",
   "metadata": {},
   "source": [
    "# Standardizing Features"
   ]
  },
  {
   "cell_type": "code",
   "execution_count": 13,
   "metadata": {},
   "outputs": [
    {
     "name": "stdout",
     "output_type": "stream",
     "text": [
      "+------------------------------------------------------------------------------------------------------------------------------------------------------------------+\n",
      "|scaled_features                                                                                                                                                   |\n",
      "+------------------------------------------------------------------------------------------------------------------------------------------------------------------+\n",
      "|[0.5487910163133848,0.5476491282420651,0.5499398544338451,0.5487917982456401,-0.4933446504540649,-0.4368519113720878,-0.5113413918085102,-0.4583594856224579]     |\n",
      "|[0.5487910163133848,0.5476491282420651,0.5499398544338451,0.5487917982456401,-0.4924309390607025,-0.43574684189844304,-0.4841629774691236,-0.4256195570812682]    |\n",
      "|[0.5491670720686164,0.5480249428497955,0.5499398544338451,0.5487917982456401,-0.42340625744289184,-0.3522583792712623,-0.4748470496627733,-0.4143963655767373]    |\n",
      "|[0.5490979906750292,0.5482869921040862,0.5502470248359228,0.5491678537824524,-0.3786620696524117,-0.2981018744886324,-0.3236051303427472,-0.2321471290727973]     |\n",
      "|[0.5483874739473246,0.5479559057549731,0.5493509488967395,0.5490981643184829,-0.15511383706185453,-0.027879086194180044,-0.19742653490178777,-0.08026401517626079]|\n",
      "|[0.5480387831807498,0.547245236928518,0.549186532409732,0.5483870398929521,-0.4401228009607643,-0.3725231525501371,-0.4194377140435962,-0.3476952480103154]       |\n",
      "|[0.5479908640450574,0.5468967697615184,0.5491391911710599,0.5480383493289027,-0.35837834604107177,-0.2737168188101394,-0.20368108590369574,-0.08791222095776587]  |\n",
      "|[0.5474869833872552,0.5468494890750996,0.5486343802250145,0.5479916464420541,-0.40336509938501147,-0.3281258929358556,-0.2963151017342107,-0.19949460647429973]   |\n",
      "|[0.5471420629080066,0.5463453238122065,0.5482892394721253,0.5474871579664082,-0.4711165582081354,-0.4100399812389866,-0.41000696572922424,-0.33640901684190083]   |\n",
      "|[0.5469228997544079,0.5460006245148186,0.5479159860556545,0.547142237687495,-0.4312357946413708,-0.36187620219660177,-0.3708688836636179,-0.2893434826506048]     |\n",
      "|[0.5470392921728284,0.5458979196818522,0.548070544855432,0.5469230746611898,-0.475794192106885,-0.4157038477543218,-0.48492812629941695,-0.426593805539307]       |\n",
      "|[0.5469079402272754,0.5458979196818522,0.5480555757748237,0.5470388589015021,-0.46874832673391076,-0.40719568975627135,-0.39573555662709214,-0.31926420572368464] |\n",
      "|[0.5472666040119384,0.5461256934770937,0.5480555757748237,0.546908723253252,-0.46899325344999204,-0.4074819390252657,-0.4940747383242717,-0.43760190918104]       |\n",
      "|[0.5472672121227974,0.5461256934770937,0.548414468609898,0.5472667787190914,-0.5220050667955382,-0.47153407762555954,-0.5028788928741806,-0.44819228133308625]    |\n",
      "|[0.5475717540410057,0.5466913600955856,0.548414468609898,0.5472667787190914,-0.35467161343116765,-0.2692785470723244,-0.45371744407443415,-0.38900287582565696]   |\n",
      "|[0.5466650607501741,0.5464300401063811,0.5475421241399718,0.5475713204604167,-0.15748584932333495,-0.031137563840213253,0.11739842039989226,0.29825903640017337]  |\n",
      "|[0.5470797923560407,0.5459390016150387,0.5478119326904498,0.5466652358067131,-0.408956547124262,-0.33496127905074835,-0.4769178796435355,-0.41695941327482583]    |\n",
      "|[0.5466438984922793,0.5459390016150387,0.5475421241399718,0.5470799671716968,-0.34470822917614563,-0.2573623150304236,-0.21673024558447473,-0.1038934878336745]   |\n",
      "|[0.5470810085777588,0.5459396093359439,0.5476817138591411,0.5466440735611099,-0.3762487175313115,-0.29546469949963977,-0.36827741802259467,-0.28625533468707937]  |\n",
      "|[0.5473021176861064,0.546160576657048,0.5482281461512684,0.5470805752822027,-0.4351193119849194,-0.36655251441969317,-0.46948958871545843,-0.4080118079462861]    |\n",
      "+------------------------------------------------------------------------------------------------------------------------------------------------------------------+\n",
      "only showing top 20 rows\n",
      "\n"
     ]
    }
   ],
   "source": [
    "from pyspark.ml.feature import VectorAssembler, StandardScaler\n",
    "\n",
    "# List of feature columns\n",
    "feature_columns = ['open', 'high', 'low', 'close', 'volume', \n",
    "                   'quote_asset_volume', 'taker_buy_base_asset_volume', 'taker_buy_quote_asset_volume']\n",
    "\n",
    "# Assemble your features into a single feature vector\n",
    "assembler = VectorAssembler(inputCols=feature_columns, outputCol=\"features\")\n",
    "bitcoin_features = assembler.transform(data)\n",
    "\n",
    "# Initialize the StandardScaler\n",
    "scaler = StandardScaler(inputCol=\"features\", outputCol=\"scaled_features\", withStd=True, withMean=True)\n",
    "\n",
    "# Fit the scaler on your data and then transform it\n",
    "scaler_model = scaler.fit(bitcoin_features)\n",
    "scaled_data = scaler_model.transform(bitcoin_features)\n",
    "\n",
    "# Show the result with scaled features\n",
    "scaled_data.select(\"scaled_features\").show(truncate=False)\n"
   ]
  },
  {
   "cell_type": "markdown",
   "metadata": {},
   "source": [
    "## Output Explanation\n",
    "The output shows the scaled_features for the top 20 rows in your DataFrame. Each row in this column is a vector representing the standardized values of the features:\n",
    "\n",
    "open\n",
    "\n",
    "high\n",
    "\n",
    "low\n",
    "\n",
    "close\n",
    "\n",
    "volume\n",
    "\n",
    "quote_asset_volume\n",
    "\n",
    "taker_buy_base_asset_volume\n",
    "\n",
    "taker_buy_quote_asset_volume\n",
    "\n",
    "Each number in these vectors is a standardized value that indicates how many standard deviations the original value is away from the mean of that specific feature. For example, a value of 0.5487 for the open feature in the first row indicates that this opening price is 0.5487 standard deviations above the mean opening price of the dataset."
   ]
  },
  {
   "cell_type": "code",
   "execution_count": 16,
   "metadata": {},
   "outputs": [
    {
     "data": {
      "text/plain": [
       "DataFrame[timestamp: timestamp, open: float, high: float, low: float, close: float, volume: float, quote_asset_volume: float, number_of_trades: float, taker_buy_base_asset_volume: float, taker_buy_quote_asset_volume: float, features: vector, scaled_features: vector]"
      ]
     },
     "execution_count": 16,
     "metadata": {},
     "output_type": "execute_result"
    }
   ],
   "source": [
    "data=scaled_data\n",
    "data"
   ]
  },
  {
   "cell_type": "markdown",
   "metadata": {},
   "source": [
    "# Implementing Random Sampling in Spark"
   ]
  },
  {
   "cell_type": "code",
   "execution_count": 71,
   "metadata": {},
   "outputs": [
    {
     "name": "stdout",
     "output_type": "stream",
     "text": [
      "Original Dataset Count: 1562451\n",
      "Sampled Dataset Count: 781854\n",
      "+-------------------+--------+--------+--------+--------+-------+------------------+----------------+---------------------------+----------------------------+\n",
      "|          timestamp|    open|    high|     low|   close| volume|quote_asset_volume|number_of_trades|taker_buy_base_asset_volume|taker_buy_quote_asset_volume|\n",
      "+-------------------+--------+--------+--------+--------+-------+------------------+----------------+---------------------------+----------------------------+\n",
      "|2023-08-01 13:18:00|28902.48|28902.49|28902.48|28902.49|4.77589|          138035.1|           317.0|                    2.24546|                   64899.387|\n",
      "+-------------------+--------+--------+--------+--------+-------+------------------+----------------+---------------------------+----------------------------+\n",
      "only showing top 1 row\n",
      "\n"
     ]
    }
   ],
   "source": [
    "# Sampling a fraction of the data randomly without replacement\n",
    "fraction = 0.5  # This means 50% of the data\n",
    "sampled_data = data.sample(withReplacement=False, fraction=fraction)\n",
    "\n",
    "# Show the number of rows in original and sampled data\n",
    "print(f\"Original Dataset Count: {data.count()}\")\n",
    "print(f\"Sampled Dataset Count: {sampled_data.count()}\")\n",
    "\n",
    "# Show a few rows to verify sampling\n",
    "sampled_data.show(1)\n"
   ]
  },
  {
   "cell_type": "markdown",
   "metadata": {},
   "source": [
    "## Summary of the Sampling Results:\n",
    "##### Original Dataset Count:   3,126,000 rows\n",
    "##### Sampled Dataset Count:  1562451 rows\n",
    "This confirms that the sample represents roughly 50% of the total data, as specified by the sampling fraction (fraction = 0.5). The slight variance in the exact 50% (312,600 rows expected vs.1562451 sampled) is typical in random sampling due to the probabilistic nature of the selection process.\n",
    "\n",
    "Sample Data Overview:\n",
    "The sampled data includes several important financial metrics captured in minute-by-minute trading details for Bitcoin:\n",
    "\n",
    "Timestamp: Indicates the specific minute the data was recorded.\n",
    "Open, High, Low, Close: Trading prices at the open, highest point, lowest point, and close of each minute.\n",
    "Volume: Total amount of Bitcoin traded during the minute.\n",
    "Quote Asset Volume: Total value traded in the quote currency (likely USD).\n",
    "Number of Trades: Total number of individual trades executed within the minute.\n",
    "Taker Buy Base Asset Volume and Taker Buy Quote Asset Volume: Metrics related to the volume and value of purchases by takers at market price. "
   ]
  },
  {
   "cell_type": "code",
   "execution_count": 15,
   "metadata": {},
   "outputs": [],
   "source": [
    "data=sampled_data\n"
   ]
  },
  {
   "cell_type": "code",
   "execution_count": 16,
   "metadata": {},
   "outputs": [
    {
     "data": {
      "text/plain": [
       "1562451"
      ]
     },
     "execution_count": 16,
     "metadata": {},
     "output_type": "execute_result"
    }
   ],
   "source": [
    "data.count()"
   ]
  },
  {
   "cell_type": "markdown",
   "metadata": {},
   "source": [
    "# Featurs selection"
   ]
  },
  {
   "cell_type": "code",
   "execution_count": 58,
   "metadata": {},
   "outputs": [],
   "source": [
    "from pyspark.ml.feature import VectorAssembler\n",
    "from pyspark.ml.regression import RandomForestRegressor\n",
    "from pyspark.ml import Pipeline\n",
    "\n",
    "# List of feature columns\n",
    "feature_columns = ['open', 'high', 'low', 'close', 'volume', \n",
    "                   'quote_asset_volume', 'taker_buy_base_asset_volume', 'taker_buy_quote_asset_volume']\n",
    "\n",
    "# Assemble features into a single vector column\n",
    "assembler = VectorAssembler(inputCols=feature_columns, outputCol=\"features\")\n",
    "\n",
    "# Define the Random Forest model\n",
    "rf = RandomForestRegressor(featuresCol='features', labelCol='number_of_trades')\n",
    "\n",
    "# Create a Pipeline\n",
    "pipeline_rf = Pipeline(stages=[assembler, rf])\n",
    "\n",
    "# Fit the pipeline on the training data\n",
    "model = pipeline_rf.fit(train_data)  # Ensure train_data has all required columns\n",
    "\n",
    "# Get the trained Random Forest model from the pipeline\n",
    "rf_model = model.stages[-1]\n"
   ]
  },
  {
   "cell_type": "code",
   "execution_count": 59,
   "metadata": {},
   "outputs": [
    {
     "name": "stdout",
     "output_type": "stream",
     "text": [
      "Feature: volume, Importance: 0.3277238794860105\n",
      "Feature: quote_asset_volume, Importance: 0.2930203773038695\n",
      "Feature: taker_buy_base_asset_volume, Importance: 0.17380584651401748\n",
      "Feature: taker_buy_quote_asset_volume, Importance: 0.10540213217567829\n",
      "Feature: open, Importance: 0.04022032181347567\n",
      "Feature: high, Importance: 0.0213615486043581\n",
      "Feature: low, Importance: 0.020463501896230734\n",
      "Feature: close, Importance: 0.018002392206359717\n"
     ]
    }
   ],
   "source": [
    "importances = rf_model.featureImportances\n",
    "importance_list = [(feature, importances[idx]) for idx, feature in enumerate(feature_columns)]\n",
    "sorted_importance = sorted(importance_list, key=lambda x: x[1], reverse=True)\n",
    "\n",
    "# Print sorted feature importances\n",
    "for feature, importance in sorted_importance:\n",
    "    print(f\"Feature: {feature}, Importance: {importance}\")\n"
   ]
  },
  {
   "cell_type": "markdown",
   "metadata": {},
   "source": [
    "# Analysis of Feature Importance"
   ]
  },
  {
   "cell_type": "markdown",
   "metadata": {},
   "source": [
    "### Volume (0.3277):\n",
    "This feature has the highest importance score, indicating that the total volume of Bitcoin traded is the most significant predictor of the number of trades. This could be due to the direct relationship between the volume of trades and the number of transactions needed to accommodate that volume.\n",
    "### Quote Asset Volume (0.2930): \n",
    "Nearly as important as volume, this feature measures the total value of Bitcoin traded, expressed in the quote currency (likely USD). This suggests that the market's liquidity and the total capital involved are crucial in determining trading activity.\n",
    "\n",
    "### Taker Buy Base Asset Volume (0.1738): \n",
    "This measures the volume of Bitcoin bought by takers, who are market participants that accept existing market prices. The significant importance of this feature highlights the role of aggressive buying behavior in driving the number of trades.\n",
    "\n",
    "### Taker Buy Quote Asset Volume (0.1054): \n",
    "Similar to taker buy base asset volume, but measured in quote currency, indicating that not just the volume but also the value of taker transactions is a key factor in trade frequency.\n",
    "\n",
    "### Open, High, Low, Close Prices (Total Importance ~0.1000):\n",
    "Prices at open, high, low, and close have lesser but still notable importances. These features together contribute about 10% to the model’s decision-making process, reflecting how price levels throughout the trading period influence the number of trades, although they are significantly less influential than volumes.\n",
    "\n",
    "### Implications and Strategic Insights\n",
    "Volume and Market Liquidity: The dominance of volume-related features (both in base and quote currencies) underscores the significance of liquidity and active trading in predicting trading activity. Enhancements in liquidity management could directly impact trading frequencies.\n",
    "Price Impact: Although less significant than volume, the pricing features' influence suggests that price volatility might also affect trading activity, potentially indicating times of market stress or opportunity.\n",
    "\n",
    "#### Focus Areas for Further Analysis:\n",
    "Temporal Analysis: Considering the impact of time (e.g., intraday periods of high activity) might provide additional insights, especially if combined with volume data.\n",
    "External Factors: Other factors such as market news, macroeconomic indicators, or changes in regulations could also be considered to see how they influence trading volumes and prices.\n",
    "Modeling and Forecasting: The insights gained from this feature importance analysis can be leveraged to refine predictive models further or develop strategies for algorithmic trading, risk management, and resource allocation.\n",
    "\n",
    "### Conclusion\n",
    "The feature importance analysis from the Random Forest model provides valuable insights into the factors that most affect the number of trades in the Bitcoin market. This knowledge can be used to improve trading strategies, enhance predictive modeling, and better understand market dynamics. If additional analysis or model adjustments are needed based on these findings or other business requirements, those can be systematically addressed."
   ]
  },
  {
   "cell_type": "code",
   "execution_count": 62,
   "metadata": {},
   "outputs": [
    {
     "name": "stdout",
     "output_type": "stream",
     "text": [
      "Defaulting to user installation because normal site-packages is not writeable\n",
      "Requirement already satisfied: matplotlib in /usr/local/anaconda3/lib/python3.7/site-packages (3.2.2)\n",
      "Requirement already satisfied: kiwisolver>=1.0.1 in /usr/local/anaconda3/lib/python3.7/site-packages (from matplotlib) (1.2.0)\n",
      "Requirement already satisfied: python-dateutil>=2.1 in /usr/local/anaconda3/lib/python3.7/site-packages (from matplotlib) (2.8.1)\n",
      "Requirement already satisfied: cycler>=0.10 in /usr/local/anaconda3/lib/python3.7/site-packages (from matplotlib) (0.10.0)\n",
      "Requirement already satisfied: numpy>=1.11 in /usr/local/anaconda3/lib/python3.7/site-packages (from matplotlib) (1.19.0)\n",
      "Requirement already satisfied: pyparsing!=2.0.4,!=2.1.2,!=2.1.6,>=2.0.1 in /usr/local/anaconda3/lib/python3.7/site-packages (from matplotlib) (2.4.7)\n",
      "Requirement already satisfied: six>=1.5 in /usr/local/anaconda3/lib/python3.7/site-packages (from python-dateutil>=2.1->matplotlib) (1.15.0)\n",
      "Note: you may need to restart the kernel to use updated packages.\n"
     ]
    }
   ],
   "source": [
    "pip install matplotlib\n"
   ]
  },
  {
   "cell_type": "code",
   "execution_count": 64,
   "metadata": {},
   "outputs": [],
   "source": [
    "import matplotlib.pyplot as plt\n",
    "# Assuming sorted_importance contains the sorted feature importances\n",
    "features = [feature for feature, _ in sorted_importance]\n",
    "importances = [importance for _, importance in sorted_importance]\n"
   ]
  },
  {
   "cell_type": "code",
   "execution_count": 65,
   "metadata": {},
   "outputs": [
    {
     "data": {
      "image/png": "[encoded data removed]",
      "text/plain": [
       "<Figure size 720x576 with 1 Axes>"
      ]
     },
     "metadata": {
      "needs_background": "light"
     },
     "output_type": "display_data"
    }
   ],
   "source": [
    "# Create a bar plot for feature importances\n",
    "plt.figure(figsize=(10, 8))\n",
    "plt.barh(features, importances, color='steelblue')\n",
    "plt.xlabel('Importance')\n",
    "plt.ylabel('Features')\n",
    "plt.title('Feature Importance from Random Forest')\n",
    "plt.gca().invert_yaxis()  # Invert y-axis to have the most important feature at the top\n",
    "plt.show()\n"
   ]
  },
  {
   "cell_type": "markdown",
   "metadata": {},
   "source": [
    "# Machine Learning\n",
    "#### Prepare the Data: Split the data into training and testing sets.\n",
    "##### Build the Model: Define and train the linear regression model.\n",
    "##### Evaluate the Model: Calculate RMSE and R-squared for both training and test datasets."
   ]
  },
  {
   "cell_type": "markdown",
   "metadata": {},
   "source": [
    "### Splitting the Data"
   ]
  },
  {
   "cell_type": "code",
   "execution_count": 69,
   "metadata": {},
   "outputs": [
    {
     "name": "stdout",
     "output_type": "stream",
     "text": [
      "Training Dataset Count: 1094568\n",
      "Testing Dataset Count: 467883\n"
     ]
    }
   ],
   "source": [
    "# Splitting the data into training and testing sets\n",
    "train_data, test_data = data.randomSplit([0.7, 0.3], seed=42)\n",
    "\n",
    "# Check the number of rows in each set\n",
    "print(f\"Training Dataset Count: {train_data.count()}\")\n",
    "print(f\"Testing Dataset Count: {test_data.count()}\")"
   ]
  },
  {
   "cell_type": "markdown",
   "metadata": {},
   "source": [
    "# Linear Regression Model"
   ]
  },
  {
   "cell_type": "code",
   "execution_count": 25,
   "metadata": {},
   "outputs": [],
   "source": [
    "from pyspark.ml.feature import VectorAssembler, StandardScaler\n",
    "from pyspark.ml.regression import LinearRegression\n",
    "from pyspark.ml import Pipeline\n",
    "\n",
    "# Define the feature columns\n",
    "feature_columns = ['open', 'high', 'low', 'close', 'volume', \n",
    "                   'quote_asset_volume', 'taker_buy_base_asset_volume', 'taker_buy_quote_asset_volume']\n",
    "\n",
    "# Assemble features into a single vector column\n",
    "assembler = VectorAssembler(inputCols=feature_columns, outputCol=\"features\")\n",
    "\n",
    "# Initialize the StandardScaler\n",
    "scaler = StandardScaler(inputCol=\"features\", outputCol=\"scaled_features\", withStd=True, withMean=True)\n",
    "\n",
    "# Define the linear regression model\n",
    "lr = LinearRegression(featuresCol='scaled_features', labelCol='number_of_trades')\n",
    "\n",
    "# Create a Pipeline\n",
    "pipeline = Pipeline(stages=[assembler, scaler, lr])\n",
    "\n",
    "# Apply the pipeline to the entire dataset\n",
    "model = pipeline.fit(data)  # Fit model on entire data if not yet split\n",
    "\n",
    "# If already split, apply pipeline to training data\n",
    "lr_model = pipeline.fit(train_data)  # Or use only on training data as required\n",
    "\n",
    "# Make predictions\n",
    "train_predictions = lr_model.transform(train_data)\n",
    "test_predictions = lr_model.transform(test_data)\n"
   ]
  },
  {
   "cell_type": "code",
   "execution_count": 29,
   "metadata": {},
   "outputs": [],
   "source": [
    "from pyspark.ml.evaluation import RegressionEvaluator\n"
   ]
  },
  {
   "cell_type": "code",
   "execution_count": 30,
   "metadata": {},
   "outputs": [],
   "source": [
    "# Create evaluators\n",
    "rmse_evaluator = RegressionEvaluator(predictionCol=\"prediction\", labelCol=\"number_of_trades\", metricName=\"rmse\")\n",
    "r2_evaluator = RegressionEvaluator(predictionCol=\"prediction\", labelCol=\"number_of_trades\", metricName=\"r2\")\n",
    "mae_evaluator = RegressionEvaluator(predictionCol=\"prediction\", labelCol=\"number_of_trades\", metricName=\"mae\")\n"
   ]
  },
  {
   "cell_type": "code",
   "execution_count": 31,
   "metadata": {},
   "outputs": [
    {
     "name": "stdout",
     "output_type": "stream",
     "text": [
      "Train RMSE: 728.8287826566594\n",
      "Test RMSE: 729.1338902877259\n",
      "Train R^2: 0.8395524442340873\n",
      "Test R^2: 0.8381850288816471\n",
      "Train MAE: 367.1304480218714\n",
      "Test MAE: 366.58307060405434\n"
     ]
    }
   ],
   "source": [
    "# Apply the model to the training and testing data\n",
    "train_predictions = lr_model.transform(train_data)\n",
    "test_predictions = lr_model.transform(test_data)\n",
    "\n",
    "# Evaluate RMSE\n",
    "rmse_train = rmse_evaluator.evaluate(train_predictions)\n",
    "rmse_test = rmse_evaluator.evaluate(test_predictions)\n",
    "\n",
    "# Evaluate R^2\n",
    "r2_train = r2_evaluator.evaluate(train_predictions)\n",
    "r2_test = r2_evaluator.evaluate(test_predictions)\n",
    "\n",
    "# Evaluate MAE\n",
    "mae_train = mae_evaluator.evaluate(train_predictions)\n",
    "mae_test = mae_evaluator.evaluate(test_predictions)\n",
    "\n",
    "# Print the results\n",
    "print(f\"Train RMSE: {rmse_train}\")\n",
    "print(f\"Test RMSE: {rmse_test}\")\n",
    "print(f\"Train R^2: {r2_train}\")\n",
    "print(f\"Test R^2: {r2_test}\")\n",
    "print(f\"Train MAE: {mae_train}\")\n",
    "print(f\"Test MAE: {mae_test}\")\n"
   ]
  },
  {
   "cell_type": "markdown",
   "metadata": {},
   "source": [
    "# second"
   ]
  },
  {
   "cell_type": "code",
   "execution_count": 27,
   "metadata": {},
   "outputs": [
    {
     "data": {
      "text/plain": [
       "LinearRegression_c2e4ed7e9721"
      ]
     },
     "execution_count": 27,
     "metadata": {},
     "output_type": "execute_result"
    }
   ],
   "source": [
    "from pyspark.ml.regression import LinearRegression\n",
    "\n",
    "# Define the linear regression model\n",
    "lr = LinearRegression(featuresCol='scaled_features', labelCol='number_of_trades')\n",
    "lr"
   ]
  },
  {
   "cell_type": "markdown",
   "metadata": {},
   "source": [
    "#### Train the Model"
   ]
  },
  {
   "cell_type": "code",
   "execution_count": 33,
   "metadata": {},
   "outputs": [],
   "source": [
    "# Fit the linear regression model on the training data\n",
    "lr_model = lr.fit(train_data)"
   ]
  },
  {
   "cell_type": "markdown",
   "metadata": {},
   "source": [
    "# Evaluate the Model"
   ]
  },
  {
   "cell_type": "code",
   "execution_count": 31,
   "metadata": {},
   "outputs": [
    {
     "name": "stdout",
     "output_type": "stream",
     "text": [
      "Train RMSE: 745.2776773555188\n",
      "Train R^2: 0.833095284030608\n",
      "Test RMSE: 717.9947692001703\n",
      "Test R^2: 0.843636287714266\n"
     ]
    }
   ],
   "source": [
    "from pyspark.ml.evaluation import RegressionEvaluator\n",
    "\n",
    "# Create an evaluator for RMSE and R^2\n",
    "evaluator_rmse = RegressionEvaluator(labelCol=\"number_of_trades\", predictionCol=\"prediction\", metricName=\"rmse\")\n",
    "evaluator_r2 = RegressionEvaluator(labelCol=\"number_of_trades\", predictionCol=\"prediction\", metricName=\"r2\")\n",
    "\n",
    "# Predictions\n",
    "train_predictions = lr_model.transform(train_data)\n",
    "test_predictions = lr_model.transform(test_data)\n",
    "\n",
    "# RMSE and R^2 on train data\n",
    "rmse_train = evaluator_rmse.evaluate(train_predictions)\n",
    "r2_train = evaluator_r2.evaluate(train_predictions)\n",
    "\n",
    "# RMSE and R^2 on test data\n",
    "rmse_test = evaluator_rmse.evaluate(test_predictions)\n",
    "r2_test = evaluator_r2.evaluate(test_predictions)\n",
    "\n",
    "# Print the results\n",
    "print(f\"Train RMSE: {rmse_train}\")\n",
    "print(f\"Train R^2: {r2_train}\")\n",
    "print(f\"Test RMSE: {rmse_test}\")\n",
    "print(f\"Test R^2: {r2_test}\")\n"
   ]
  },
  {
   "cell_type": "markdown",
   "metadata": {},
   "source": [
    "### Create an Evaluator for MAE"
   ]
  },
  {
   "cell_type": "code",
   "execution_count": 32,
   "metadata": {},
   "outputs": [],
   "source": [
    "from pyspark.ml.evaluation import RegressionEvaluator\n",
    "\n",
    "# Create an evaluator for MAE\n",
    "evaluator_mae = RegressionEvaluator(labelCol=\"number_of_trades\", predictionCol=\"prediction\", metricName=\"mae\")\n"
   ]
  },
  {
   "cell_type": "markdown",
   "metadata": {},
   "source": [
    "### Evaluate MAE on Train and Test Data"
   ]
  },
  {
   "cell_type": "code",
   "execution_count": 33,
   "metadata": {
    "scrolled": true
   },
   "outputs": [
    {
     "name": "stdout",
     "output_type": "stream",
     "text": [
      "Train MAE: 374.0767976435615\n",
      "Test MAE: 371.1791431182892\n"
     ]
    }
   ],
   "source": [
    "# MAE on train data\n",
    "mae_train = evaluator_mae.evaluate(train_predictions)\n",
    "\n",
    "# MAE on test data\n",
    "mae_test = evaluator_mae.evaluate(test_predictions)\n",
    "\n",
    "# Print the results\n",
    "print(f\"Train MAE: {mae_train}\")\n",
    "print(f\"Test MAE: {mae_test}\")\n"
   ]
  },
  {
   "cell_type": "markdown",
   "metadata": {},
   "source": [
    "\n",
    "To determine which Linear Regression model performed better, we can compare their respective evaluation metrics: RMSE (Root Mean Squared Error), \n",
    "𝑅2 (coefficient of determination), and MAE (Mean Absolute Error). Here’s an analysis based on the provided results for both models:\n",
    "###### Linear Regression Model 1:\n",
    "Train RMSE: 728.8288\n",
    "\n",
    "Test RMSE: 729.1339\n",
    "\n",
    "Train R²: 0.8396\n",
    "\n",
    "Test R²: 0.8382\n",
    "\n",
    "Train MAE: 367.1304\n",
    "\n",
    "Test MAE: 366.5831\n",
    "###### Linear Regression Model 2:\n",
    "Train RMSE: 745.2777\n",
    "\n",
    "Test RMSE: 717.9948\n",
    "\n",
    "Train R²: 0.8331\n",
    "\n",
    "Test R²: 0.8436\n",
    "\n",
    "Train MAE: 374.0768\n",
    "\n",
    "Test MAE: 371.1791\n",
    "\n",
    "While both models show comparable performance, Linear Regression Model 2 edges out slightly in terms of lower RMSE and MAE, along with a higher 𝑅2 on the test data."
   ]
  },
  {
   "cell_type": "markdown",
   "metadata": {},
   "source": [
    "# Generalized Linear Model"
   ]
  },
  {
   "cell_type": "code",
   "execution_count": 34,
   "metadata": {},
   "outputs": [],
   "source": [
    "from pyspark.ml.regression import GeneralizedLinearRegression\n",
    "\n",
    "# Define the Generalized Linear Model (GLM)\n",
    "glm = GeneralizedLinearRegression(featuresCol='scaled_features', labelCol='number_of_trades', \n",
    "                                  family=\"gaussian\", link=\"identity\")\n"
   ]
  },
  {
   "cell_type": "code",
   "execution_count": 35,
   "metadata": {},
   "outputs": [],
   "source": [
    "from pyspark.ml import Pipeline\n",
    "from pyspark.ml.feature import VectorAssembler, StandardScaler\n",
    "\n",
    "# Define the feature columns again if necessary\n",
    "feature_columns = ['open', 'high', 'low', 'close', 'volume', \n",
    "                   'quote_asset_volume', 'taker_buy_base_asset_volume', 'taker_buy_quote_asset_volume']\n",
    "\n",
    "# Assemble features into a single vector column\n",
    "assembler = VectorAssembler(inputCols=feature_columns, outputCol=\"features\")\n",
    "\n",
    "# Initialize the StandardScaler\n",
    "scaler = StandardScaler(inputCol=\"features\", outputCol=\"scaled_features\", withStd=True, withMean=True)\n",
    "\n",
    "# Create a Pipeline that includes feature processing and the model\n",
    "pipeline_glm = Pipeline(stages=[assembler, scaler, glm])\n",
    "\n",
    "# Apply the pipeline to the entire dataset to produce a model\n",
    "glm_model = pipeline_glm.fit(train_data)\n"
   ]
  },
  {
   "cell_type": "code",
   "execution_count": 36,
   "metadata": {
    "scrolled": true
   },
   "outputs": [
    {
     "name": "stdout",
     "output_type": "stream",
     "text": [
      "Train RMSE (GLM): 728.8287826566594\n",
      "Test RMSE (GLM): 729.1338902877258\n",
      "Train R^2 (GLM): 0.8395524442340873\n",
      "Test R^2 (GLM): 0.8381850288816471\n",
      "Train MAE (GLM): 367.13044802187136\n",
      "Test MAE (GLM): 366.58307060405434\n"
     ]
    }
   ],
   "source": [
    "from pyspark.ml.evaluation import RegressionEvaluator\n",
    "\n",
    "# Make predictions\n",
    "train_predictions_glm = glm_model.transform(train_data)\n",
    "test_predictions_glm = glm_model.transform(test_data)\n",
    "\n",
    "# Create evaluators for RMSE, R^2, and MAE\n",
    "evaluator_rmse = RegressionEvaluator(predictionCol=\"prediction\", labelCol=\"number_of_trades\", metricName=\"rmse\")\n",
    "evaluator_r2 = RegressionEvaluator(predictionCol=\"prediction\", labelCol=\"number_of_trades\", metricName=\"r2\")\n",
    "evaluator_mae = RegressionEvaluator(predictionCol=\"prediction\", labelCol=\"number_of_trades\", metricName=\"mae\")\n",
    "\n",
    "# Evaluate RMSE, R^2, and MAE on train and test data\n",
    "rmse_train_glm = evaluator_rmse.evaluate(train_predictions_glm)\n",
    "rmse_test_glm = evaluator_rmse.evaluate(test_predictions_glm)\n",
    "r2_train_glm = evaluator_r2.evaluate(train_predictions_glm)\n",
    "r2_test_glm = evaluator_r2.evaluate(test_predictions_glm)\n",
    "mae_train_glm = evaluator_mae.evaluate(train_predictions_glm)\n",
    "mae_test_glm = evaluator_mae.evaluate(test_predictions_glm)\n",
    "\n",
    "# Print the results\n",
    "print(f\"Train RMSE (GLM): {rmse_train_glm}\")\n",
    "print(f\"Test RMSE (GLM): {rmse_test_glm}\")\n",
    "print(f\"Train R^2 (GLM): {r2_train_glm}\")\n",
    "print(f\"Test R^2 (GLM): {r2_test_glm}\")\n",
    "print(f\"Train MAE (GLM): {mae_train_glm}\")\n",
    "print(f\"Test MAE (GLM): {mae_test_glm}\")\n"
   ]
  },
  {
   "cell_type": "markdown",
   "metadata": {},
   "source": [
    "# second model"
   ]
  },
  {
   "cell_type": "code",
   "execution_count": 34,
   "metadata": {},
   "outputs": [],
   "source": [
    "from pyspark.ml.regression import GeneralizedLinearRegression\n",
    "\n",
    "# Define the GLM model\n",
    "glm = GeneralizedLinearRegression(featuresCol='scaled_features', labelCol='number_of_trades', \n",
    "                                  family=\"gaussian\", link=\"identity\")\n"
   ]
  },
  {
   "cell_type": "code",
   "execution_count": 35,
   "metadata": {},
   "outputs": [],
   "source": [
    "# Fit the GLM model on the training data\n",
    "glm_model = glm.fit(train_data)\n"
   ]
  },
  {
   "cell_type": "code",
   "execution_count": 36,
   "metadata": {},
   "outputs": [
    {
     "name": "stdout",
     "output_type": "stream",
     "text": [
      "Train RMSE: 745.2776773555167\n",
      "Train R^2: 0.8330952840306088\n",
      "Train MAE: 374.07679763615937\n",
      "Test RMSE: 717.9947691982301\n",
      "Test R^2: 0.8436362877151111\n",
      "Test MAE: 371.1791431105101\n"
     ]
    }
   ],
   "source": [
    "from pyspark.ml.evaluation import RegressionEvaluator\n",
    "\n",
    "# Create evaluators for RMSE, R^2, and MAE\n",
    "evaluator_rmse = RegressionEvaluator(labelCol=\"number_of_trades\", predictionCol=\"prediction\", metricName=\"rmse\")\n",
    "evaluator_r2 = RegressionEvaluator(labelCol=\"number_of_trades\", predictionCol=\"prediction\", metricName=\"r2\")\n",
    "evaluator_mae = RegressionEvaluator(labelCol=\"number_of_trades\", predictionCol=\"prediction\", metricName=\"mae\")\n",
    "\n",
    "# Predictions on train and test data\n",
    "train_predictions = glm_model.transform(train_data)\n",
    "test_predictions = glm_model.transform(test_data)\n",
    "\n",
    "# Calculate metrics on train data\n",
    "rmse_train = evaluator_rmse.evaluate(train_predictions)\n",
    "r2_train = evaluator_r2.evaluate(train_predictions)\n",
    "mae_train = evaluator_mae.evaluate(train_predictions)\n",
    "\n",
    "# Calculate metrics on test data\n",
    "rmse_test = evaluator_rmse.evaluate(test_predictions)\n",
    "r2_test = evaluator_r2.evaluate(test_predictions)\n",
    "mae_test = evaluator_mae.evaluate(test_predictions)\n",
    "\n",
    "# Print the results\n",
    "print(f\"Train RMSE: {rmse_train}\")\n",
    "print(f\"Train R^2: {r2_train}\")\n",
    "print(f\"Train MAE: {mae_train}\")\n",
    "print(f\"Test RMSE: {rmse_test}\")\n",
    "print(f\"Test R^2: {r2_test}\")\n",
    "print(f\"Test MAE: {mae_test}\")\n"
   ]
  },
  {
   "cell_type": "markdown",
   "metadata": {},
   "source": [
    "GLM2 demonstrates superior performance in critical metrics for testing, particularly in terms of RMSE and  𝑅2, which are crucial for evaluating the accuracy and explanatory power of a predictive model. The ability of GLM2 to perform well on unseen data highlights its robustness and reliability as a predictive tool for Bitcoin price movements. "
   ]
  },
  {
   "cell_type": "markdown",
   "metadata": {},
   "source": [
    "#  Random Forest Model"
   ]
  },
  {
   "cell_type": "code",
   "execution_count": 37,
   "metadata": {},
   "outputs": [],
   "source": [
    "from pyspark.ml.regression import RandomForestRegressor\n",
    "\n",
    "# Define the Random Forest regression model\n",
    "rf = RandomForestRegressor(featuresCol='scaled_features', labelCol='number_of_trades')\n"
   ]
  },
  {
   "cell_type": "markdown",
   "metadata": {},
   "source": [
    "#### Create the Pipeline "
   ]
  },
  {
   "cell_type": "code",
   "execution_count": 38,
   "metadata": {},
   "outputs": [],
   "source": [
    "from pyspark.ml import Pipeline\n",
    "from pyspark.ml.feature import VectorAssembler, StandardScaler\n",
    "\n",
    "# List of feature columns\n",
    "feature_columns = ['open', 'high', 'low', 'close', 'volume', \n",
    "                   'quote_asset_volume', 'taker_buy_base_asset_volume', 'taker_buy_quote_asset_volume']\n",
    "\n",
    "# Assemble features into a single vector column\n",
    "assembler = VectorAssembler(inputCols=feature_columns, outputCol=\"features\")\n",
    "\n",
    "# Initialize the StandardScaler\n",
    "scaler = StandardScaler(inputCol=\"features\", outputCol=\"scaled_features\", withStd=True, withMean=False)  # Scaling can be optional for RF\n",
    "\n",
    "# Create a Pipeline\n",
    "pipeline_rf = Pipeline(stages=[assembler, scaler, rf])\n",
    "\n",
    "# Fit the pipeline on the training data\n",
    "rf_model = pipeline_rf.fit(train_data)\n"
   ]
  },
  {
   "cell_type": "code",
   "execution_count": 39,
   "metadata": {},
   "outputs": [
    {
     "name": "stdout",
     "output_type": "stream",
     "text": [
      "Train RMSE (RF): 794.9891031893675\n",
      "Test RMSE (RF): 801.207687087413\n",
      "Train R^2 (RF): 0.8091006601149812\n",
      "Test R^2 (RF): 0.8046135935982304\n",
      "Train MAE (RF): 274.24457961039184\n",
      "Test MAE (RF): 273.7954340484161\n"
     ]
    }
   ],
   "source": [
    "from pyspark.ml.evaluation import RegressionEvaluator\n",
    "\n",
    "# Make predictions on the training and testing data\n",
    "train_predictions_rf = rf_model.transform(train_data)\n",
    "test_predictions_rf = rf_model.transform(test_data)\n",
    "\n",
    "# Create evaluators for RMSE, R^2, and MAE\n",
    "evaluator_rmse = RegressionEvaluator(predictionCol=\"prediction\", labelCol=\"number_of_trades\", metricName=\"rmse\")\n",
    "evaluator_r2 = RegressionEvaluator(predictionCol=\"prediction\", labelCol=\"number_of_trades\", metricName=\"r2\")\n",
    "evaluator_mae = RegressionEvaluator(predictionCol=\"prediction\", labelCol=\"number_of_trades\", metricName=\"mae\")\n",
    "\n",
    "# Evaluate RMSE, R^2, and MAE on train and test data\n",
    "rmse_train_rf = evaluator_rmse.evaluate(train_predictions_rf)\n",
    "rmse_test_rf = evaluator_rmse.evaluate(test_predictions_rf)\n",
    "r2_train_rf = evaluator_r2.evaluate(train_predictions_rf)\n",
    "r2_test_rf = evaluator_r2.evaluate(test_predictions_rf)\n",
    "mae_train_rf = evaluator_mae.evaluate(train_predictions_rf)\n",
    "mae_test_rf = evaluator_mae.evaluate(test_predictions_rf)\n",
    "\n",
    "# Print the results\n",
    "print(f\"Train RMSE (RF): {rmse_train_rf}\")\n",
    "print(f\"Test RMSE (RF): {rmse_test_rf}\")\n",
    "print(f\"Train R^2 (RF): {r2_train_rf}\")\n",
    "print(f\"Test R^2 (RF): {r2_test_rf}\")\n",
    "print(f\"Train MAE (RF): {mae_train_rf}\")\n",
    "print(f\"Test MAE (RF): {mae_test_rf}\")\n"
   ]
  },
  {
   "cell_type": "code",
   "execution_count": null,
   "metadata": {},
   "outputs": [],
   "source": []
  },
  {
   "cell_type": "markdown",
   "metadata": {},
   "source": [
    "# second model"
   ]
  },
  {
   "cell_type": "code",
   "execution_count": 37,
   "metadata": {},
   "outputs": [],
   "source": [
    "from pyspark.ml.regression import RandomForestRegressor\n",
    "\n",
    "# Define the Random Forest regression model\n",
    "rf = RandomForestRegressor(featuresCol='scaled_features', labelCol='number_of_trades')\n"
   ]
  },
  {
   "cell_type": "code",
   "execution_count": 38,
   "metadata": {},
   "outputs": [],
   "source": [
    "# Fit the Random Forest model on the training data\n",
    "rf_model = rf.fit(train_data)\n"
   ]
  },
  {
   "cell_type": "code",
   "execution_count": 39,
   "metadata": {},
   "outputs": [
    {
     "name": "stdout",
     "output_type": "stream",
     "text": [
      "Train RMSE: 812.5691138401784\n",
      "Train R^2: 0.8015948219332761\n",
      "Train MAE: 279.5884648469052\n",
      "Test RMSE: 800.293709120837\n",
      "Test R^2: 0.8057360486347579\n",
      "Test MAE: 278.28412001569626\n"
     ]
    }
   ],
   "source": [
    "from pyspark.ml.evaluation import RegressionEvaluator\n",
    "\n",
    "# Create evaluators for RMSE, R^2, and MAE\n",
    "evaluator_rmse = RegressionEvaluator(labelCol=\"number_of_trades\", predictionCol=\"prediction\", metricName=\"rmse\")\n",
    "evaluator_r2 = RegressionEvaluator(labelCol=\"number_of_trades\", predictionCol=\"prediction\", metricName=\"r2\")\n",
    "evaluator_mae = RegressionEvaluator(labelCol=\"number_of_trades\", predictionCol=\"prediction\", metricName=\"mae\")\n",
    "\n",
    "# Make predictions on train and test data\n",
    "train_predictions = rf_model.transform(train_data)\n",
    "test_predictions = rf_model.transform(test_data)\n",
    "\n",
    "# Calculate metrics on train data\n",
    "rmse_train = evaluator_rmse.evaluate(train_predictions)\n",
    "r2_train = evaluator_r2.evaluate(train_predictions)\n",
    "mae_train = evaluator_mae.evaluate(train_predictions)\n",
    "\n",
    "# Calculate metrics on test data\n",
    "rmse_test = evaluator_rmse.evaluate(test_predictions)\n",
    "r2_test = evaluator_r2.evaluate(test_predictions)\n",
    "mae_test = evaluator_mae.evaluate(test_predictions)\n",
    "\n",
    "# Print the results\n",
    "print(f\"Train RMSE: {rmse_train}\")\n",
    "print(f\"Train R^2: {r2_train}\")\n",
    "print(f\"Train MAE: {mae_train}\")\n",
    "print(f\"Test RMSE: {rmse_test}\")\n",
    "print(f\"Test R^2: {r2_test}\")\n",
    "print(f\"Test MAE: {mae_test}\")\n"
   ]
  },
  {
   "cell_type": "markdown",
   "metadata": {},
   "source": [
    "Model 1 shows superior performance across the other key metrics including both RMSE and MAE for testing and training phases.  "
   ]
  },
  {
   "cell_type": "markdown",
   "metadata": {},
   "source": [
    "# Decision Tree Model"
   ]
  },
  {
   "cell_type": "code",
   "execution_count": 40,
   "metadata": {},
   "outputs": [],
   "source": [
    "from pyspark.ml.regression import DecisionTreeRegressor\n",
    "\n",
    "# Define the Decision Tree regression model\n",
    "dt = DecisionTreeRegressor(featuresCol='scaled_features', labelCol='number_of_trades')\n"
   ]
  },
  {
   "cell_type": "markdown",
   "metadata": {},
   "source": [
    "### Create the Pipeline"
   ]
  },
  {
   "cell_type": "code",
   "execution_count": 41,
   "metadata": {},
   "outputs": [],
   "source": [
    "from pyspark.ml import Pipeline\n",
    "from pyspark.ml.feature import VectorAssembler, StandardScaler\n",
    "\n",
    "# List of feature columns\n",
    "feature_columns = ['open', 'high', 'low', 'close', 'volume',\n",
    "                   'quote_asset_volume', 'taker_buy_base_asset_volume', 'taker_buy_quote_asset_volume']\n",
    "\n",
    "# Assemble features into a single vector column\n",
    "assembler = VectorAssembler(inputCols=feature_columns, outputCol=\"features\")\n",
    "\n",
    "# Initialize the StandardScaler\n",
    "scaler = StandardScaler(inputCol=\"features\", outputCol=\"scaled_features\", withStd=True, withMean=False)  # Optional for DT\n",
    "\n",
    "# Create a Pipeline\n",
    "pipeline_dt = Pipeline(stages=[assembler, scaler, dt])\n",
    "\n",
    "# Fit the pipeline on the training data\n",
    "dt_model = pipeline_dt.fit(train_data)\n"
   ]
  },
  {
   "cell_type": "markdown",
   "metadata": {},
   "source": [
    "# Predictions and Evaluate the Model"
   ]
  },
  {
   "cell_type": "code",
   "execution_count": 42,
   "metadata": {},
   "outputs": [
    {
     "name": "stdout",
     "output_type": "stream",
     "text": [
      "Train RMSE (DT): 686.7297660577887\n",
      "Test RMSE (DT): 690.4332740301621\n",
      "Train R^2 (DT): 0.857552832086823\n",
      "Test R^2 (DT): 0.8549066337308155\n",
      "Train MAE (DT): 286.65029068163506\n",
      "Test MAE (DT): 285.5468002448871\n"
     ]
    }
   ],
   "source": [
    "from pyspark.ml.evaluation import RegressionEvaluator\n",
    "\n",
    "# Make predictions on the training and testing data\n",
    "train_predictions_dt = dt_model.transform(train_data)\n",
    "test_predictions_dt = dt_model.transform(test_data)\n",
    "\n",
    "# Create evaluators for RMSE, R^2, and MAE\n",
    "evaluator_rmse = RegressionEvaluator(predictionCol=\"prediction\", labelCol=\"number_of_trades\", metricName=\"rmse\")\n",
    "evaluator_r2 = RegressionEvaluator(predictionCol=\"prediction\", labelCol=\"number_of_trades\", metricName=\"r2\")\n",
    "evaluator_mae = RegressionEvaluator(predictionCol=\"prediction\", labelCol=\"number_of_trades\", metricName=\"mae\")\n",
    "\n",
    "# Evaluate RMSE, R^2, and MAE on train and test data\n",
    "rmse_train_dt = evaluator_rmse.evaluate(train_predictions_dt)\n",
    "rmse_test_dt = evaluator_rmse.evaluate(test_predictions_dt)\n",
    "r2_train_dt = evaluator_r2.evaluate(train_predictions_dt)\n",
    "r2_test_dt = evaluator_r2.evaluate(test_predictions_dt)\n",
    "mae_train_dt = evaluator_mae.evaluate(train_predictions_dt)\n",
    "mae_test_dt = evaluator_mae.evaluate(test_predictions_dt)\n",
    "\n",
    "# Print the results\n",
    "print(f\"Train RMSE (DT): {rmse_train_dt}\")\n",
    "print(f\"Test RMSE (DT): {rmse_test_dt}\")\n",
    "print(f\"Train R^2 (DT): {r2_train_dt}\")\n",
    "print(f\"Test R^2 (DT): {r2_test_dt}\")\n",
    "print(f\"Train MAE (DT): {mae_train_dt}\")\n",
    "print(f\"Test MAE (DT): {mae_test_dt}\")\n"
   ]
  },
  {
   "cell_type": "markdown",
   "metadata": {},
   "source": [
    "# second "
   ]
  },
  {
   "cell_type": "code",
   "execution_count": 40,
   "metadata": {},
   "outputs": [],
   "source": [
    "from pyspark.ml.regression import DecisionTreeRegressor\n",
    "\n",
    "# Define the Decision Tree regression model\n",
    "dt = DecisionTreeRegressor(featuresCol='scaled_features', labelCol='number_of_trades')\n"
   ]
  },
  {
   "cell_type": "code",
   "execution_count": 41,
   "metadata": {},
   "outputs": [],
   "source": [
    "# Fit the Decision Tree model on the training data\n",
    "dt_model = dt.fit(train_data)\n"
   ]
  },
  {
   "cell_type": "code",
   "execution_count": 42,
   "metadata": {
    "scrolled": true
   },
   "outputs": [
    {
     "name": "stdout",
     "output_type": "stream",
     "text": [
      "Train RMSE: 701.3254458878464\n",
      "Train R^2: 0.8522009732432883\n",
      "Train MAE: 283.1721466225061\n",
      "Test RMSE: 683.241862403584\n",
      "Test R^2: 0.8584068160434148\n",
      "Test MAE: 281.7011620255186\n"
     ]
    }
   ],
   "source": [
    "from pyspark.ml.evaluation import RegressionEvaluator\n",
    "\n",
    "# Create evaluators for RMSE, R^2, and MAE\n",
    "evaluator_rmse = RegressionEvaluator(labelCol=\"number_of_trades\", predictionCol=\"prediction\", metricName=\"rmse\")\n",
    "evaluator_r2 = RegressionEvaluator(labelCol=\"number_of_trades\", predictionCol=\"prediction\", metricName=\"r2\")\n",
    "evaluator_mae = RegressionEvaluator(labelCol=\"number_of_trades\", predictionCol=\"prediction\", metricName=\"mae\")\n",
    "\n",
    "# Make predictions on train and test data\n",
    "train_predictions = dt_model.transform(train_data)\n",
    "test_predictions = dt_model.transform(test_data)\n",
    "\n",
    "# Calculate metrics on train data\n",
    "rmse_train = evaluator_rmse.evaluate(train_predictions)\n",
    "r2_train = evaluator_r2.evaluate(train_predictions)\n",
    "mae_train = evaluator_mae.evaluate(train_predictions)\n",
    "\n",
    "# Calculate metrics on test data\n",
    "rmse_test = evaluator_rmse.evaluate(test_predictions)\n",
    "r2_test = evaluator_r2.evaluate(test_predictions)\n",
    "mae_test = evaluator_mae.evaluate(test_predictions)\n",
    "\n",
    "# Print the results\n",
    "print(f\"Train RMSE: {rmse_train}\")\n",
    "print(f\"Train R^2: {r2_train}\")\n",
    "print(f\"Train MAE: {mae_train}\")\n",
    "print(f\"Test RMSE: {rmse_test}\")\n",
    "print(f\"Test R^2: {r2_test}\")\n",
    "print(f\"Test MAE: {mae_test}\")\n"
   ]
  },
  {
   "cell_type": "markdown",
   "metadata": {},
   "source": [
    "Decision Tree Model 1:\n",
    "    \n",
    "Train RMSE: 686.7298\n",
    "    \n",
    "Test RMSE: 690.4333\n",
    "    \n",
    "Train R²: 0.8576\n",
    "\n",
    "Test R²: 0.8549\n",
    "\n",
    "Train MAE: 286.6503\n",
    "\n",
    "Test MAE: 285.5468\n",
    "    \n",
    "Decision Tree Model 2:\n",
    "\n",
    "Train RMSE: 701.3254\n",
    "\n",
    "Test RMSE: 683.2419\n",
    "\n",
    "Train R²: 0.8522\n",
    "\n",
    "Test R²: 0.8584\n",
    "\n",
    "Train MAE: 283.1721\n",
    "\n",
    "Test MAE: 281.7012\n",
    "While both models exhibit strong performance, Decision Tree Model 2 is the preferable choice based on the evaluation metrics. It shows a better balance of lower errors (both RMSE and MAE) and higher explanatory power (𝑅2) in the test phase"
   ]
  },
  {
   "cell_type": "markdown",
   "metadata": {},
   "source": [
    "# Gradient Boosting Model"
   ]
  },
  {
   "cell_type": "code",
   "execution_count": 47,
   "metadata": {},
   "outputs": [],
   "source": [
    "from pyspark.ml.regression import GBTRegressor\n",
    "\n",
    "# Define the Gradient Boosting regression model\n",
    "gbt = GBTRegressor(featuresCol='scaled_features', labelCol='number_of_trades', maxIter=10)\n"
   ]
  },
  {
   "cell_type": "markdown",
   "metadata": {},
   "source": [
    "### Create the Pipeline"
   ]
  },
  {
   "cell_type": "code",
   "execution_count": 48,
   "metadata": {},
   "outputs": [],
   "source": [
    "from pyspark.ml import Pipeline\n",
    "from pyspark.ml.feature import VectorAssembler, StandardScaler\n",
    "\n",
    "# List of feature columns\n",
    "feature_columns = ['open', 'high', 'low', 'close', 'volume',\n",
    "                   'quote_asset_volume', 'taker_buy_base_asset_volume', 'taker_buy_quote_asset_volume']\n",
    "\n",
    "# Assemble features into a single vector column\n",
    "assembler = VectorAssembler(inputCols=feature_columns, outputCol=\"features\")\n",
    "\n",
    "# Initialize the StandardScaler\n",
    "scaler = StandardScaler(inputCol=\"features\", outputCol=\"scaled_features\", withStd=True, withMean=True)  # Optional but can be beneficial\n",
    "\n",
    "# Create a Pipeline\n",
    "pipeline_gbt = Pipeline(stages=[assembler, scaler, gbt])\n",
    "\n",
    "# Fit the pipeline on the training data\n",
    "gbt_model = pipeline_gbt.fit(train_data)\n",
    "\n"
   ]
  },
  {
   "cell_type": "markdown",
   "metadata": {},
   "source": [
    "# Predictions and Evaluate the Model"
   ]
  },
  {
   "cell_type": "code",
   "execution_count": 49,
   "metadata": {},
   "outputs": [
    {
     "name": "stdout",
     "output_type": "stream",
     "text": [
      "Train RMSE (GBT): 770.6583621010163\n",
      "Test RMSE (GBT): 780.2243929029951\n",
      "Train R^2 (GBT): 0.8206068461462046\n",
      "Test R^2 (GBT): 0.814713755706673\n",
      "Train MAE (GBT): 271.2390221367579\n",
      "Test MAE (GBT): 270.9837385602651\n"
     ]
    }
   ],
   "source": [
    "from pyspark.ml.evaluation import RegressionEvaluator\n",
    "\n",
    "# Make predictions on the training and testing data\n",
    "train_predictions_gbt = gbt_model.transform(train_data)\n",
    "test_predictions_gbt = gbt_model.transform(test_data)\n",
    "\n",
    "# Create evaluators for RMSE, R^2, and MAE\n",
    "evaluator_rmse = RegressionEvaluator(predictionCol=\"prediction\", labelCol=\"number_of_trades\", metricName=\"rmse\")\n",
    "evaluator_r2 = RegressionEvaluator(predictionCol=\"prediction\", labelCol=\"number_of_trades\", metricName=\"r2\")\n",
    "evaluator_mae = RegressionEvaluator(predictionCol=\"prediction\", labelCol=\"number_of_trades\", metricName=\"mae\")\n",
    "\n",
    "# Evaluate RMSE, R^2, and MAE on train and test data\n",
    "rmse_train_gbt = evaluator_rmse.evaluate(train_predictions_gbt)\n",
    "rmse_test_gbt = evaluator_rmse.evaluate(test_predictions_gbt)\n",
    "r2_train_gbt = evaluator_r2.evaluate(train_predictions_gbt)\n",
    "r2_test_gbt = evaluator_r2.evaluate(test_predictions_gbt)\n",
    "mae_train_gbt = evaluator_mae.evaluate(train_predictions_gbt)\n",
    "mae_test_gbt = evaluator_mae.evaluate(test_predictions_gbt)\n",
    "\n",
    "# Print the results\n",
    "print(f\"Train RMSE (GBT): {rmse_train_gbt}\")\n",
    "print(f\"Test RMSE (GBT): {rmse_test_gbt}\")\n",
    "print(f\"Train R^2 (GBT): {r2_train_gbt}\")\n",
    "print(f\"Test R^2 (GBT): {r2_test_gbt}\")\n",
    "print(f\"Train MAE (GBT): {mae_train_gbt}\")\n",
    "print(f\"Test MAE (GBT): {mae_test_gbt}\")\n"
   ]
  },
  {
   "cell_type": "code",
   "execution_count": null,
   "metadata": {},
   "outputs": [],
   "source": []
  },
  {
   "cell_type": "markdown",
   "metadata": {},
   "source": [
    "# second"
   ]
  },
  {
   "cell_type": "code",
   "execution_count": 51,
   "metadata": {},
   "outputs": [],
   "source": [
    "# Fit the GBT model on the training data\n",
    "gbt_model = gbt.fit(train_data)\n"
   ]
  },
  {
   "cell_type": "code",
   "execution_count": 45,
   "metadata": {
    "scrolled": true
   },
   "outputs": [
    {
     "name": "stdout",
     "output_type": "stream",
     "text": [
      "Train RMSE: 648.1015743667527\n",
      "Train R^2: 0.873782802153771\n",
      "Train MAE: 262.37626374468243\n",
      "Test RMSE: 637.9843298089315\n",
      "Test R^2: 0.8765436492691506\n",
      "Test MAE: 261.51319039817486\n"
     ]
    }
   ],
   "source": [
    "from pyspark.ml.evaluation import RegressionEvaluator\n",
    "\n",
    "# Create evaluators for RMSE, R^2, and MAE\n",
    "evaluator_rmse = RegressionEvaluator(labelCol=\"number_of_trades\", predictionCol=\"prediction\", metricName=\"rmse\")\n",
    "evaluator_r2 = RegressionEvaluator(labelCol=\"number_of_trades\", predictionCol=\"prediction\", metricName=\"r2\")\n",
    "evaluator_mae = RegressionEvaluator(labelCol=\"number_of_trades\", predictionCol=\"prediction\", metricName=\"mae\")\n",
    "\n",
    "# Make predictions on train and test data\n",
    "train_predictions = gbt_model.transform(train_data)\n",
    "test_predictions = gbt_model.transform(test_data)\n",
    "\n",
    "# Calculate metrics on train data\n",
    "rmse_train = evaluator_rmse.evaluate(train_predictions)\n",
    "r2_train = evaluator_r2.evaluate(train_predictions)\n",
    "mae_train = evaluator_mae.evaluate(train_predictions)\n",
    "\n",
    "# Calculate metrics on test data\n",
    "rmse_test = evaluator_rmse.evaluate(test_predictions)\n",
    "r2_test = evaluator_r2.evaluate(test_predictions)\n",
    "mae_test = evaluator_mae.evaluate(test_predictions)\n",
    "\n",
    "# Print the results\n",
    "print(f\"Train RMSE: {rmse_train}\")\n",
    "print(f\"Train R^2: {r2_train}\")\n",
    "print(f\"Train MAE: {mae_train}\")\n",
    "print(f\"Test RMSE: {rmse_test}\")\n",
    "print(f\"Test R^2: {r2_test}\")\n",
    "print(f\"Test MAE: {mae_test}\")\n"
   ]
  },
  {
   "cell_type": "markdown",
   "metadata": {},
   "source": [
    "Gradient Boosting Model 1:\n",
    "\n",
    "Train RMSE: 770.6584\n",
    "\n",
    "Test RMSE: 780.2244\n",
    "\n",
    "Train R²: 0.8206\n",
    "\n",
    "Test R²: 0.8147\n",
    "\n",
    "Train MAE: 271.2390\n",
    "\n",
    "Test MAE: 270.9837\n",
    "\n",
    "Gradient Boosting Model 2:\n",
    "\n",
    "Train RMSE: 648.1016\n",
    "\n",
    "Test RMSE: 637.9843\n",
    "\n",
    "Train R²: 0.8738\n",
    "\n",
    "Test R²: 0.8765\n",
    "\n",
    "Train MAE: 262.3763\n",
    "\n",
    "Test MAE: 261.5132"
   ]
  },
  {
   "cell_type": "code",
   "execution_count": 66,
   "metadata": {},
   "outputs": [],
   "source": [
    "spark.stop()"
   ]
  },
  {
   "cell_type": "markdown",
   "metadata": {},
   "source": [
    "# Conclusion"
   ]
  },
  {
   "cell_type": "markdown",
   "metadata": {},
   "source": [
    "### Conclusion of Bitcoin Price Prediction Project\n",
    "In this project, I endeavored to identify the most effective predictive model for Bitcoin prices using a robust dataset of historical price data. A comparative analysis of five different predictive models was performed: Linear Regression, Generalized Linear Model, Random Forest, Decision Tree, and Gradient Boosting. Each model was evaluated based on three key performance metrics: Root Mean Squared Error (RMSE), Coefficient of Determination (𝑅2), and Mean Absolute Error (MAE).\n",
    "\n",
    "### Model Performance Summary:\n",
    "Linear Regression and Generalized Linear Model showcased nearly identical performance with an RMSE of approximately 729,𝑅2\n",
    "of around 0.839, and MAE of 367 on the test dataset. These models demonstrated good reliability but not the best among the competitors.\n",
    "\n",
    "Random Forest Model presented slightly lower performance in RMSE and 𝑅2\n",
    "compared to linear models but showed an impressive reduction in MAE, making it highly effective in terms of average error magnitude.\n",
    "\n",
    "Decision Tree Model emerged as the top performer across all metrics among the models tested. It achieved the lowest RMSE of 690, the highest 𝑅2 of 0.855, and an MAE of 285.55 on the test set, indicating its superior ability to predict Bitcoin prices accurately.\n",
    "\n",
    "Gradient Boosting Model, while not outperforming the Decision Tree, still showed commendable results with solid 𝑅2 values and the lowest MAE among all models, indicating its effectiveness in minimizing error magnitude in predictions.\n",
    "\n",
    "# Best Model:\n",
    "The Decision Tree Model stood out as the best model for predicting Bitcoin prices. It not only achieved the lowest RMSE but also the highest \n",
    "𝑅2 values, demonstrating its robustness in both fitting the training data and generalizing well to unseen test data. The model’s ability to capture complex nonlinear patterns in the dataset likely contributed to its superior performance.\n",
    "\n",
    "###### Train RMSE (DT): 686.7297660577887\n",
    "###### Test RMSE (DT): 690.4332740301621\n",
    "###### Train R^2 (DT): 0.857552832086823\n",
    "###### Test R^2 (DT): 0.8549066337308155\n",
    "###### Train MAE (DT): 286.65029068163506\n",
    "###### Test MAE (DT): 285.5468002448871\n",
    "\n",
    "### Final Thoughts:\n",
    "This project has provided valuable insights into the application of machine learning models in financial markets, specifically in cryptocurrency price prediction. The findings can assist traders and financial analysts in making informed decisions, backed by robust model predictions. Moving forward, continuous refinement and validation against newer data will be essential to maintain the efficacy of the predictive models developed."
   ]
  },
  {
   "cell_type": "code",
   "execution_count": null,
   "metadata": {},
   "outputs": [],
   "source": []
  }
 ],
 "metadata": {
  "kernelspec": {
   "display_name": "Python 3 (ipykernel)",
   "language": "python",
   "name": "python3"
  },
  "language_info": {
   "codemirror_mode": {
    "name": "ipython",
    "version": 3
   },
   "file_extension": ".py",
   "mimetype": "text/x-python",
   "name": "python",
   "nbconvert_exporter": "python",
   "pygments_lexer": "ipython3",
   "version": "3.11.5"
  }
 },
 "nbformat": 4,
 "nbformat_minor": 4
}
